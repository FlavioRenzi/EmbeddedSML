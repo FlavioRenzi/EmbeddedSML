{
 "cells": [
  {
   "attachments": {},
   "cell_type": "markdown",
   "metadata": {},
   "source": [
    "# Streaming machine learning on Arduino"
   ]
  },
  {
   "attachments": {},
   "cell_type": "markdown",
   "metadata": {},
   "source": [
    "## Setup the environment"
   ]
  },
  {
   "cell_type": "code",
   "execution_count": null,
   "metadata": {},
   "outputs": [],
   "source": [
    "%pip install pyserial\n",
    "%pip install river"
   ]
  },
  {
   "attachments": {},
   "cell_type": "markdown",
   "metadata": {},
   "source": [
    "### Loading the datset"
   ]
  },
  {
   "cell_type": "code",
   "execution_count": 1,
   "metadata": {},
   "outputs": [
    {
     "name": "stdout",
     "output_type": "stream",
     "text": [
      "407808\n"
     ]
    }
   ],
   "source": [
    "from scipy.io import arff\n",
    "import pandas as pd\n",
    "\n",
    "data = arff.loadarff('elecNormNew.arff')\n",
    "df = pd.DataFrame(data[0])\n",
    "print(df.size)\n",
    "\n",
    "df.head(20)\n",
    "\n",
    "def convert(x):\n",
    "    if x.decode() == 'UP':\n",
    "        return 1\n",
    "    else:\n",
    "        return 0\n",
    "\n",
    "y_true = list(map(convert,df['class'].values.tolist()))"
   ]
  },
  {
   "cell_type": "code",
   "execution_count": 2,
   "metadata": {},
   "outputs": [
    {
     "name": "stdout",
     "output_type": "stream",
     "text": [
      "0.0\n",
      "0.056443,0.439155,0.003467,0.422915,0.414912,1\n",
      "0.041161,0.207528,0.003467,0.422915,0.414912,0\n"
     ]
    }
   ],
   "source": [
    "print(str(df['date'][0]))\n",
    "\n",
    "def stringBuilder(df,x):\n",
    "    # Build a string from the data in the dataframe\n",
    "    string = str(df['nswprice'][x]) + ',' + str(df['nswdemand'][x]) + ',' + str(df['vicprice'][x]) + ',' + str(df['vicdemand'][x]) + ',' + str(df['transfer'][x]) + ',' + str(y_true[x])\n",
    "    return string\n",
    "print(stringBuilder(df,0))\n",
    "print(stringBuilder(df,5))"
   ]
  },
  {
   "attachments": {},
   "cell_type": "markdown",
   "metadata": {},
   "source": [
    "## Run"
   ]
  },
  {
   "attachments": {},
   "cell_type": "markdown",
   "metadata": {},
   "source": [
    "### Start streaming the dataset over serial using the imported dataset"
   ]
  },
  {
   "cell_type": "code",
   "execution_count": 2,
   "metadata": {},
   "outputs": [
    {
     "name": "stdout",
     "output_type": "stream",
     "text": [
      "init\n",
      "\n"
     ]
    },
    {
     "ename": "SerialException",
     "evalue": "ClearCommError failed (PermissionError(13, 'Il dispositivo non riconosce il comando.', None, 22))",
     "output_type": "error",
     "traceback": [
      "\u001b[1;31m---------------------------------------------------------------------------\u001b[0m",
      "\u001b[1;31mSerialException\u001b[0m                           Traceback (most recent call last)",
      "\u001b[1;32mc:\\Users\\flavi\\Documents\\GitHub\\EmbeddedSML\\Streamer\\streamer.ipynb Cell 9\u001b[0m in \u001b[0;36m1\n\u001b[0;32m     <a href='vscode-notebook-cell:/c%3A/Users/flavi/Documents/GitHub/EmbeddedSML/Streamer/streamer.ipynb#X11sZmlsZQ%3D%3D?line=9'>10</a>\u001b[0m res \u001b[39m=\u001b[39m \u001b[39m\"\u001b[39m\u001b[39m\"\u001b[39m\n\u001b[0;32m     <a href='vscode-notebook-cell:/c%3A/Users/flavi/Documents/GitHub/EmbeddedSML/Streamer/streamer.ipynb#X11sZmlsZQ%3D%3D?line=10'>11</a>\u001b[0m \u001b[39mwhile\u001b[39;00m \u001b[39m'\u001b[39m\u001b[39mstart sending data\u001b[39m\u001b[39m'\u001b[39m \u001b[39mnot\u001b[39;00m \u001b[39min\u001b[39;00m res: \n\u001b[1;32m---> <a href='vscode-notebook-cell:/c%3A/Users/flavi/Documents/GitHub/EmbeddedSML/Streamer/streamer.ipynb#X11sZmlsZQ%3D%3D?line=11'>12</a>\u001b[0m     res \u001b[39m=\u001b[39m serialPort\u001b[39m.\u001b[39;49mreadline()\u001b[39m.\u001b[39mdecode()\n\u001b[0;32m     <a href='vscode-notebook-cell:/c%3A/Users/flavi/Documents/GitHub/EmbeddedSML/Streamer/streamer.ipynb#X11sZmlsZQ%3D%3D?line=12'>13</a>\u001b[0m     \u001b[39mprint\u001b[39m(res)\n\u001b[0;32m     <a href='vscode-notebook-cell:/c%3A/Users/flavi/Documents/GitHub/EmbeddedSML/Streamer/streamer.ipynb#X11sZmlsZQ%3D%3D?line=13'>14</a>\u001b[0m     \u001b[39mif\u001b[39;00m \u001b[39m'\u001b[39m\u001b[39mwaiting for configuration msg\u001b[39m\u001b[39m'\u001b[39m \u001b[39min\u001b[39;00m res:\n",
      "File \u001b[1;32mc:\\Users\\flavi\\AppData\\Local\\Programs\\Python\\Python311\\Lib\\site-packages\\serial\\serialwin32.py:275\u001b[0m, in \u001b[0;36mSerial.read\u001b[1;34m(self, size)\u001b[0m\n\u001b[0;32m    273\u001b[0m comstat \u001b[39m=\u001b[39m win32\u001b[39m.\u001b[39mCOMSTAT()\n\u001b[0;32m    274\u001b[0m \u001b[39mif\u001b[39;00m \u001b[39mnot\u001b[39;00m win32\u001b[39m.\u001b[39mClearCommError(\u001b[39mself\u001b[39m\u001b[39m.\u001b[39m_port_handle, ctypes\u001b[39m.\u001b[39mbyref(flags), ctypes\u001b[39m.\u001b[39mbyref(comstat)):\n\u001b[1;32m--> 275\u001b[0m     \u001b[39mraise\u001b[39;00m SerialException(\u001b[39m\"\u001b[39m\u001b[39mClearCommError failed (\u001b[39m\u001b[39m{!r}\u001b[39;00m\u001b[39m)\u001b[39m\u001b[39m\"\u001b[39m\u001b[39m.\u001b[39mformat(ctypes\u001b[39m.\u001b[39mWinError()))\n\u001b[0;32m    276\u001b[0m n \u001b[39m=\u001b[39m \u001b[39mmin\u001b[39m(comstat\u001b[39m.\u001b[39mcbInQue, size) \u001b[39mif\u001b[39;00m \u001b[39mself\u001b[39m\u001b[39m.\u001b[39mtimeout \u001b[39m==\u001b[39m \u001b[39m0\u001b[39m \u001b[39melse\u001b[39;00m size\n\u001b[0;32m    277\u001b[0m \u001b[39mif\u001b[39;00m n \u001b[39m>\u001b[39m \u001b[39m0\u001b[39m:\n",
      "\u001b[1;31mSerialException\u001b[0m: ClearCommError failed (PermissionError(13, 'Il dispositivo non riconosce il comando.', None, 22))"
     ]
    }
   ],
   "source": [
    "import serial\n",
    "\n",
    "serialPort = serial.Serial(port=\"COM14\", baudrate=500000, bytesize=8, timeout= None, rtscts=False)\n",
    "print('init')\n",
    "# Configuration\n",
    "step = 1\n",
    "featureCount = 5\n",
    "config = 'partitionDim: ' + str(step) +',featureCount: ' + str(featureCount) +','\n",
    "\n",
    "res = \"\"\n",
    "while 'start sending data' not in res: \n",
    "    res = serialPort.readline().decode()\n",
    "    print(res)\n",
    "    if 'waiting for configuration msg' in res:\n",
    "        serialPort.write(config.encode())\n",
    "\n",
    "\n",
    "# Start sending data\n",
    "predictions = []\n",
    "predTime = []\n",
    "trainTime = []\n",
    "counter = 0\n",
    "\n",
    "for partition in range(0, 1000, step):\n",
    "    data = \"\"\n",
    "    for i in range(partition, partition + step):\n",
    "        data += stringBuilder(df,i) + ',;'\n",
    "    #print(data)\n",
    "    serialPort.write(data.encode())\n",
    "\n",
    "    res = serialPort.readline().decode()\n",
    "    #print(res)\n",
    "    samples = res.split(';')\n",
    "    for x in range(0,len(samples)-1):\n",
    "        sample = samples[x]\n",
    "        for out in sample.split(','):\n",
    "            if 'predicted:' in out:\n",
    "                predict = int(out.split(':')[1])\n",
    "                #print(predict)\n",
    "                predictions.append(predict)   \n",
    "                if (predict == y_true[partition+x]):\n",
    "                    counter += 1\n",
    "            if 'prediction_time:' in out:\n",
    "                predTime.append(int(out.split(':')[1]))\n",
    "            if 'train_time:' in out:\n",
    "                trainTime.append(int(out.split(':')[1]))\n",
    "\n",
    "\n",
    "    print('accuracy after '+ str(partition+step) + ': '+ \"{:.3f}\".format(counter/(partition+step)), end='')\n",
    "    #print(', avg pred time: ' + str(int(sum(predTime)/len(predTime))) + 'μs, avg train time: ' + str(int(sum(trainTime)/len(trainTime))) + 'μs')\n",
    "    print()\n",
    "print('accuracy: ' + str(counter/len(predictions)))\n",
    "serial.Serial.close(serialPort)\n"
   ]
  },
  {
   "attachments": {},
   "cell_type": "markdown",
   "metadata": {},
   "source": [
    "### Start streaming the dataset over serial using the Sine dataset"
   ]
  },
  {
   "cell_type": "code",
   "execution_count": 10,
   "metadata": {},
   "outputs": [
    {
     "name": "stdout",
     "output_type": "stream",
     "text": [
      "waiting for configuration msg\n",
      "\n",
      "waiting for configuration msg\n",
      "\n",
      "configuration msg received\n",
      "\n",
      "partitionDim: 100, featureCount: 2\n",
      "\n",
      "start sending data\n",
      "\n",
      "predicted: 0, prediction_time: 47, train_time: 128,;predicted: 0, prediction_time: 49, train_time: 125,;predicted: 1, prediction_time: 40, train_time: 105,;predicted: 0, prediction_time: 43, train_time: 95,;predicted: 1, prediction_time: 43, train_time: 108,;predicted: 0, prediction_time: 45, train_time: 98,;predicted: 1, prediction_time: 51, train_time: 106,;predicted: 0, prediction_time: 47, train_time: 98,;predicted: 1, prediction_time: 50, train_time: 106,;predicted: 0, prediction_time: 47, train_time: 7351,;predicted: 1, prediction_time: 50, train_time: 7824,;predicted: 0, prediction_time: 45, train_time: 7872,;predicted: 1, prediction_time: 47, train_time: 7821,;predicted: 0, prediction_time: 48, train_time: 7819,;predicted: 1, prediction_time: 47, train_time: 7819,;predicted: 0, prediction_time: 44, train_time: 7820,;predicted: 1, prediction_time: 57, train_time: 8300,;predicted: 0, prediction_time: 50, train_time: 8316,;predicted: 1, prediction_time: 47, train_time: 8245,;predicted: 0, prediction_time: 48, train_time: 8353,;predicted: 1, prediction_time: 50, train_time: 8544,;predicted: 0, prediction_time: 46, train_time: 8429,;predicted: 1, prediction_time: 53, train_time: 8373,;predicted: 0, prediction_time: 48, train_time: 8391,;predicted: 1, prediction_time: 77, train_time: 8367,;predicted: 0, prediction_time: 55, train_time: 8004,;predicted: 1, prediction_time: 51, train_time: 7522,;predicted: 0, prediction_time: 56, train_time: 7525,;predicted: 1, prediction_time: 50, train_time: 7460,;predicted: 0, prediction_time: 46, train_time: 7466,;predicted: 1, prediction_time: 56, train_time: 7457,;predicted: 0, prediction_time: 54, train_time: 7456,;predicted: 1, prediction_time: 48, train_time: 7469,;predicted: 0, prediction_time: 51, train_time: 7461,;predicted: 1, prediction_time: 48, train_time: 7458,;predicted: 0, prediction_time: 61, train_time: 7399,;predicted: 1, prediction_time: 56, train_time: 7403,;predicted: 0, prediction_time: 46, train_time: 7457,;predicted: 1, prediction_time: 51, train_time: 7457,;predicted: 0, prediction_time: 52, train_time: 7449,;predicted: 1, prediction_time: 48, train_time: 7297,;predicted: 0, prediction_time: 58, train_time: 7260,;predicted: 1, prediction_time: 51, train_time: 7258,;predicted: 0, prediction_time: 52, train_time: 7691,;predicted: 1, prediction_time: 52, train_time: 7706,;predicted: 0, prediction_time: 47, train_time: 7692,;predicted: 1, prediction_time: 66, train_time: 7683,;predicted: 0, prediction_time: 53, train_time: 7661,;predicted: 1, prediction_time: 53, train_time: 7687,;predicted: 0, prediction_time: 58, train_time: 7743,;predicted: 1, prediction_time: 47, train_time: 7700,;predicted: 0, prediction_time: 47, train_time: 7685,;predicted: 1, prediction_time: 50, train_time: 7685,;predicted: 0, prediction_time: 53, train_time: 7634,;predicted: 1, prediction_time: 58, train_time: 7631,;predicted: 0, prediction_time: 48, train_time: 7634,;predicted: 1, prediction_time: 48, train_time: 7578,;predicted: 0, prediction_time: 46, train_time: 7583,;predicted: 1, prediction_time: 57, train_time: 7586,;predicted: 0, prediction_time: 48, train_time: 7582,;predicted: 1, prediction_time: 51, train_time: 7585,;predicted: 0, prediction_time: 52, train_time: 7588,;predicted: 1, prediction_time: 54, train_time: 7625,;predicted: 0, prediction_time: 51, train_time: 7644,;predicted: 1, prediction_time: 72, train_time: 7638,;predicted: 0, prediction_time: 48, train_time: 7637,;predicted: 1, prediction_time: 51, train_time: 7640,;predicted: 0, prediction_time: 38, train_time: 7701,;predicted: 1, prediction_time: 54, train_time: 7645,;predicted: 0, prediction_time: 53, train_time: 7640,;predicted: 1, prediction_time: 51, train_time: 7652,;predicted: 0, prediction_time: 53, train_time: 7649,;predicted: 1, prediction_time: 56, train_time: 7645,;predicted: 0, prediction_time: 50, train_time: 7668,;predicted: 1, prediction_time: 53, train_time: 7640,;predicted: 0, prediction_time: 47, train_time: 7639,;predicted: 1, prediction_time: 57, train_time: 7646,;predicted: 0, prediction_time: 48, train_time: 7646,;predicted: 1, prediction_time: 64, train_time: 7632,;predicted: 0, prediction_time: 47, train_time: 7640,;predicted: 1, prediction_time: 48, train_time: 7673,;predicted: 0, prediction_time: 50, train_time: 7629,;predicted: 1, prediction_time: 48, train_time: 7641,;predicted: 0, prediction_time: 47, train_time: 7656,;predicted: 1, prediction_time: 49, train_time: 7642,;predicted: 0, prediction_time: 54, train_time: 7630,;predicted: 1, prediction_time: 52, train_time: 7641,;predicted: 0, prediction_time: 51, train_time: 7648,;predicted: 1, prediction_time: 63, train_time: 7631,;predicted: 0, prediction_time: 47, train_time: 7650,;predicted: 1, prediction_time: 64, train_time: 7640,;predicted: 0, prediction_time: 60, train_time: 7651,;predicted: 1, prediction_time: 50, train_time: 7705,;predicted: 0, prediction_time: 74, train_time: 7695,;predicted: 1, prediction_time: 55, train_time: 7627,;predicted: 0, prediction_time: 47, train_time: 7671,;predicted: 1, prediction_time: 62, train_time: 7651,;predicted: 0, prediction_time: 55, train_time: 7640,;predicted: 1, prediction_time: 47, train_time: 7648,;predicted: 0, prediction_time: 74, train_time: 7644,;\n",
      "\n",
      "accuracy after 100: 0.990\n",
      "predicted: 1, prediction_time: 80, train_time: 7656,;predicted: 0, prediction_time: 63, train_time: 7681,;predicted: 1, prediction_time: 90, train_time: 7637,;predicted: 0, prediction_time: 65, train_time: 7629,;predicted: 1, prediction_time: 65, train_time: 7632,;predicted: 0, prediction_time: 86, train_time: 7691,;predicted: 1, prediction_time: 61, train_time: 7686,;predicted: 0, prediction_time: 59, train_time: 7703,;predicted: 1, prediction_time: 64, train_time: 7688,;predicted: 0, prediction_time: 61, train_time: 7693,;predicted: 1, prediction_time: 56, train_time: 7722,;predicted: 0, prediction_time: 58, train_time: 7724,;predicted: 1, prediction_time: 57, train_time: 7729,;predicted: 0, prediction_time: 63, train_time: 7724,;predicted: 1, prediction_time: 65, train_time: 7723,;predicted: 0, prediction_time: 57, train_time: 7720,;predicted: 1, prediction_time: 63, train_time: 7781,;predicted: 0, prediction_time: 65, train_time: 7789,;predicted: 1, prediction_time: 58, train_time: 7776,;predicted: 0, prediction_time: 59, train_time: 7775,;predicted: 1, prediction_time: 66, train_time: 7894,;predicted: 0, prediction_time: 61, train_time: 7899,;predicted: 1, prediction_time: 58, train_time: 7890,;predicted: 0, prediction_time: 62, train_time: 7889,;predicted: 1, prediction_time: 70, train_time: 7888,;predicted: 0, prediction_time: 66, train_time: 7894,;predicted: 1, prediction_time: 73, train_time: 7832,;predicted: 0, prediction_time: 82, train_time: 7836,;predicted: 1, prediction_time: 65, train_time: 7825,;predicted: 0, prediction_time: 70, train_time: 7844,;predicted: 1, prediction_time: 67, train_time: 7834,;predicted: 0, prediction_time: 78, train_time: 7829,;predicted: 1, prediction_time: 57, train_time: 7830,;predicted: 0, prediction_time: 72, train_time: 7826,;predicted: 1, prediction_time: 69, train_time: 7828,;predicted: 0, prediction_time: 79, train_time: 7889,;predicted: 1, prediction_time: 63, train_time: 7897,;predicted: 0, prediction_time: 61, train_time: 7831,;predicted: 1, prediction_time: 62, train_time: 7853,;predicted: 0, prediction_time: 63, train_time: 7832,;predicted: 1, prediction_time: 57, train_time: 7654,;predicted: 0, prediction_time: 74, train_time: 7705,;predicted: 1, prediction_time: 61, train_time: 7693,;predicted: 0, prediction_time: 67, train_time: 7649,;predicted: 1, prediction_time: 68, train_time: 7654,;predicted: 0, prediction_time: 62, train_time: 7688,;predicted: 1, prediction_time: 61, train_time: 7714,;predicted: 0, prediction_time: 58, train_time: 7646,;predicted: 1, prediction_time: 74, train_time: 7644,;predicted: 0, prediction_time: 56, train_time: 7670,;predicted: 1, prediction_time: 61, train_time: 7652,;predicted: 0, prediction_time: 58, train_time: 7639,;predicted: 1, prediction_time: 67, train_time: 7648,;predicted: 0, prediction_time: 66, train_time: 7657,;predicted: 1, prediction_time: 66, train_time: 7639,;predicted: 0, prediction_time: 62, train_time: 7639,;predicted: 1, prediction_time: 57, train_time: 7652,;predicted: 0, prediction_time: 64, train_time: 7647,;predicted: 1, prediction_time: 65, train_time: 7659,;predicted: 0, prediction_time: 83, train_time: 7651,;predicted: 1, prediction_time: 67, train_time: 7641,;predicted: 0, prediction_time: 58, train_time: 7650,;predicted: 1, prediction_time: 69, train_time: 7653,;predicted: 0, prediction_time: 63, train_time: 7645,;predicted: 1, prediction_time: 59, train_time: 7656,;predicted: 0, prediction_time: 78, train_time: 7648,;predicted: 1, prediction_time: 63, train_time: 7652,;predicted: 0, prediction_time: 44, train_time: 7621,;predicted: 1, prediction_time: 58, train_time: 7653,;predicted: 0, prediction_time: 63, train_time: 7648,;predicted: 1, prediction_time: 70, train_time: 7646,;predicted: 0, prediction_time: 59, train_time: 7648,;predicted: 1, prediction_time: 66, train_time: 7648,;predicted: 0, prediction_time: 62, train_time: 7647,;predicted: 1, prediction_time: 62, train_time: 7650,;predicted: 0, prediction_time: 58, train_time: 7650,;predicted: 1, prediction_time: 72, train_time: 7641,;predicted: 0, prediction_time: 56, train_time: 7666,;predicted: 1, prediction_time: 66, train_time: 7653,;predicted: 0, prediction_time: 71, train_time: 7635,;predicted: 1, prediction_time: 57, train_time: 7646,;predicted: 0, prediction_time: 54, train_time: 7639,;predicted: 1, prediction_time: 58, train_time: 7648,;predicted: 0, prediction_time: 72, train_time: 7643,;predicted: 1, prediction_time: 56, train_time: 7646,;predicted: 0, prediction_time: 69, train_time: 7652,;predicted: 1, prediction_time: 62, train_time: 7645,;predicted: 0, prediction_time: 60, train_time: 7646,;predicted: 1, prediction_time: 65, train_time: 7649,;predicted: 0, prediction_time: 61, train_time: 7639,;predicted: 1, prediction_time: 61, train_time: 7660,;predicted: 0, prediction_time: 83, train_time: 7655,;predicted: 1, prediction_time: 65, train_time: 7649,;predicted: 0, prediction_time: 57, train_time: 7654,;predicted: 1, prediction_time: 81, train_time: 7653,;predicted: 0, prediction_time: 59, train_time: 7653,;predicted: 1, prediction_time: 58, train_time: 7661,;predicted: 0, prediction_time: 65, train_time: 7650,;predicted: 1, prediction_time: 62, train_time: 7639,;predicted: 0, prediction_time: 67, train_time: 7646,;\n",
      "\n",
      "accuracy after 200: 0.995\n",
      "predicted: 1, prediction_time: 82, train_time: 7650,;predicted: 0, prediction_time: 60, train_time: 7687,;predicted: 1, prediction_time: 89, train_time: 7631,;predicted: 0, prediction_time: 65, train_time: 7622,;predicted: 1, prediction_time: 67, train_time: 7633,;predicted: 0, prediction_time: 87, train_time: 7690,;predicted: 1, prediction_time: 62, train_time: 7678,;predicted: 0, prediction_time: 64, train_time: 7703,;predicted: 1, prediction_time: 64, train_time: 7688,;predicted: 0, prediction_time: 60, train_time: 7683,;predicted: 1, prediction_time: 58, train_time: 7725,;predicted: 0, prediction_time: 58, train_time: 7726,;predicted: 1, prediction_time: 58, train_time: 7740,;predicted: 0, prediction_time: 64, train_time: 7720,;predicted: 1, prediction_time: 70, train_time: 7717,;predicted: 0, prediction_time: 58, train_time: 7725,;predicted: 1, prediction_time: 65, train_time: 7732,;predicted: 0, prediction_time: 62, train_time: 7739,;predicted: 1, prediction_time: 68, train_time: 7721,;predicted: 0, prediction_time: 70, train_time: 7716,;predicted: 1, prediction_time: 60, train_time: 7844,;predicted: 0, prediction_time: 59, train_time: 7825,;predicted: 1, prediction_time: 58, train_time: 7847,;predicted: 0, prediction_time: 65, train_time: 7830,;predicted: 1, prediction_time: 60, train_time: 7831,;predicted: 0, prediction_time: 76, train_time: 7833,;predicted: 1, prediction_time: 73, train_time: 7833,;predicted: 0, prediction_time: 63, train_time: 7829,;predicted: 1, prediction_time: 76, train_time: 7840,;predicted: 0, prediction_time: 62, train_time: 7829,;predicted: 1, prediction_time: 75, train_time: 7835,;predicted: 0, prediction_time: 66, train_time: 7850,;predicted: 1, prediction_time: 64, train_time: 7842,;predicted: 0, prediction_time: 58, train_time: 7834,;predicted: 1, prediction_time: 74, train_time: 7832,;predicted: 0, prediction_time: 67, train_time: 7835,;predicted: 1, prediction_time: 66, train_time: 7831,;predicted: 0, prediction_time: 62, train_time: 7845,;predicted: 1, prediction_time: 68, train_time: 7841,;predicted: 0, prediction_time: 60, train_time: 7857,;predicted: 1, prediction_time: 59, train_time: 7656,;predicted: 0, prediction_time: 75, train_time: 7647,;predicted: 1, prediction_time: 60, train_time: 7653,;predicted: 0, prediction_time: 67, train_time: 7651,;predicted: 1, prediction_time: 75, train_time: 7644,;predicted: 0, prediction_time: 58, train_time: 7657,;predicted: 1, prediction_time: 67, train_time: 7649,;predicted: 0, prediction_time: 72, train_time: 7648,;predicted: 1, prediction_time: 60, train_time: 7655,;predicted: 0, prediction_time: 65, train_time: 7648,;predicted: 1, prediction_time: 59, train_time: 7640,;predicted: 0, prediction_time: 57, train_time: 7649,;predicted: 1, prediction_time: 87, train_time: 7650,;predicted: 0, prediction_time: 63, train_time: 7647,;predicted: 1, prediction_time: 60, train_time: 7652,;predicted: 0, prediction_time: 78, train_time: 7653,;predicted: 1, prediction_time: 58, train_time: 7640,;predicted: 0, prediction_time: 58, train_time: 7647,;predicted: 1, prediction_time: 60, train_time: 7657,;predicted: 0, prediction_time: 64, train_time: 7648,;predicted: 1, prediction_time: 62, train_time: 7651,;predicted: 0, prediction_time: 88, train_time: 7648,;predicted: 1, prediction_time: 63, train_time: 7643,;predicted: 0, prediction_time: 63, train_time: 7648,;predicted: 1, prediction_time: 84, train_time: 7651,;predicted: 0, prediction_time: 63, train_time: 7642,;predicted: 1, prediction_time: 62, train_time: 7657,;predicted: 0, prediction_time: 51, train_time: 7625,;predicted: 1, prediction_time: 63, train_time: 7647,;predicted: 0, prediction_time: 67, train_time: 7647,;predicted: 1, prediction_time: 60, train_time: 7643,;predicted: 0, prediction_time: 70, train_time: 7647,;predicted: 1, prediction_time: 76, train_time: 7645,;predicted: 0, prediction_time: 60, train_time: 7648,;predicted: 1, prediction_time: 69, train_time: 7647,;predicted: 0, prediction_time: 69, train_time: 7644,;predicted: 1, prediction_time: 60, train_time: 7649,;predicted: 0, prediction_time: 62, train_time: 7646,;predicted: 1, prediction_time: 71, train_time: 7640,;predicted: 0, prediction_time: 58, train_time: 7637,;predicted: 1, prediction_time: 64, train_time: 7657,;predicted: 0, prediction_time: 48, train_time: 7623,;predicted: 1, prediction_time: 74, train_time: 7639,;predicted: 0, prediction_time: 61, train_time: 7663,;predicted: 1, prediction_time: 58, train_time: 7643,;predicted: 0, prediction_time: 65, train_time: 7637,;predicted: 1, prediction_time: 65, train_time: 7643,;predicted: 0, prediction_time: 63, train_time: 7653,;predicted: 1, prediction_time: 67, train_time: 7645,;predicted: 0, prediction_time: 57, train_time: 7650,;predicted: 1, prediction_time: 77, train_time: 7645,;predicted: 0, prediction_time: 65, train_time: 7647,;predicted: 1, prediction_time: 69, train_time: 7653,;predicted: 0, prediction_time: 83, train_time: 7644,;predicted: 1, prediction_time: 71, train_time: 7647,;predicted: 0, prediction_time: 58, train_time: 7656,;predicted: 1, prediction_time: 60, train_time: 7658,;predicted: 0, prediction_time: 69, train_time: 7646,;predicted: 1, prediction_time: 58, train_time: 7648,;predicted: 0, prediction_time: 63, train_time: 7645,;\n",
      "\n",
      "accuracy after 300: 0.997\n",
      "predicted: 1, prediction_time: 78, train_time: 7655,;predicted: 0, prediction_time: 63, train_time: 7679,;predicted: 1, prediction_time: 89, train_time: 7638,;predicted: 0, prediction_time: 67, train_time: 7624,;predicted: 1, prediction_time: 65, train_time: 7628,;predicted: 0, prediction_time: 80, train_time: 7697,;predicted: 1, prediction_time: 66, train_time: 7688,;predicted: 0, prediction_time: 59, train_time: 7697,;predicted: 1, prediction_time: 63, train_time: 7688,;predicted: 0, prediction_time: 59, train_time: 7690,;predicted: 1, prediction_time: 60, train_time: 7726,;predicted: 0, prediction_time: 61, train_time: 7717,;predicted: 1, prediction_time: 57, train_time: 7740,;predicted: 0, prediction_time: 69, train_time: 7727,;predicted: 1, prediction_time: 67, train_time: 7717,;predicted: 0, prediction_time: 62, train_time: 7720,;predicted: 1, prediction_time: 66, train_time: 7731,;predicted: 0, prediction_time: 61, train_time: 7739,;predicted: 1, prediction_time: 56, train_time: 7722,;predicted: 0, prediction_time: 72, train_time: 7723,;predicted: 1, prediction_time: 66, train_time: 7849,;predicted: 0, prediction_time: 57, train_time: 7825,;predicted: 1, prediction_time: 59, train_time: 7837,;predicted: 0, prediction_time: 64, train_time: 7830,;predicted: 1, prediction_time: 58, train_time: 7831,;predicted: 0, prediction_time: 73, train_time: 7826,;predicted: 1, prediction_time: 57, train_time: 7831,;predicted: 0, prediction_time: 73, train_time: 7835,;predicted: 1, prediction_time: 68, train_time: 7832,;predicted: 0, prediction_time: 67, train_time: 7833,;predicted: 1, prediction_time: 79, train_time: 7841,;predicted: 0, prediction_time: 62, train_time: 7836,;predicted: 1, prediction_time: 69, train_time: 7840,;predicted: 0, prediction_time: 59, train_time: 7829,;predicted: 1, prediction_time: 76, train_time: 7840,;predicted: 0, prediction_time: 62, train_time: 7841,;predicted: 1, prediction_time: 67, train_time: 7829,;predicted: 0, prediction_time: 57, train_time: 7830,;predicted: 1, prediction_time: 67, train_time: 7847,;predicted: 0, prediction_time: 62, train_time: 7847,;predicted: 1, prediction_time: 64, train_time: 7653,;predicted: 0, prediction_time: 63, train_time: 7643,;predicted: 1, prediction_time: 67, train_time: 7648,;predicted: 0, prediction_time: 69, train_time: 7652,;predicted: 1, prediction_time: 64, train_time: 7647,;predicted: 0, prediction_time: 60, train_time: 7648,;predicted: 1, prediction_time: 68, train_time: 7651,;predicted: 0, prediction_time: 58, train_time: 7648,;predicted: 1, prediction_time: 65, train_time: 7648,;predicted: 0, prediction_time: 77, train_time: 7647,;predicted: 1, prediction_time: 61, train_time: 7646,;predicted: 0, prediction_time: 63, train_time: 7657,;predicted: 1, prediction_time: 61, train_time: 7647,;predicted: 0, prediction_time: 67, train_time: 7652,;predicted: 1, prediction_time: 62, train_time: 7658,;predicted: 0, prediction_time: 80, train_time: 7649,;predicted: 1, prediction_time: 57, train_time: 7649,;predicted: 0, prediction_time: 67, train_time: 7648,;predicted: 1, prediction_time: 61, train_time: 7667,;predicted: 0, prediction_time: 66, train_time: 7653,;predicted: 1, prediction_time: 61, train_time: 7653,;predicted: 0, prediction_time: 64, train_time: 7651,;predicted: 1, prediction_time: 69, train_time: 7653,;predicted: 0, prediction_time: 61, train_time: 7649,;predicted: 1, prediction_time: 65, train_time: 7654,;predicted: 0, prediction_time: 60, train_time: 7649,;predicted: 1, prediction_time: 69, train_time: 7649,;predicted: 0, prediction_time: 45, train_time: 7630,;predicted: 1, prediction_time: 65, train_time: 7655,;predicted: 0, prediction_time: 66, train_time: 7643,;predicted: 1, prediction_time: 64, train_time: 7646,;predicted: 0, prediction_time: 69, train_time: 7652,;predicted: 1, prediction_time: 60, train_time: 7640,;predicted: 0, prediction_time: 59, train_time: 7651,;predicted: 1, prediction_time: 69, train_time: 7647,;predicted: 0, prediction_time: 61, train_time: 7642,;predicted: 1, prediction_time: 65, train_time: 7642,;predicted: 0, prediction_time: 57, train_time: 7654,;predicted: 1, prediction_time: 67, train_time: 7644,;predicted: 0, prediction_time: 62, train_time: 7651,;predicted: 1, prediction_time: 83, train_time: 7656,;predicted: 0, prediction_time: 51, train_time: 7621,;predicted: 1, prediction_time: 60, train_time: 7635,;predicted: 0, prediction_time: 58, train_time: 7645,;predicted: 1, prediction_time: 84, train_time: 7650,;predicted: 0, prediction_time: 61, train_time: 7656,;predicted: 1, prediction_time: 61, train_time: 7657,;predicted: 0, prediction_time: 78, train_time: 7651,;predicted: 1, prediction_time: 66, train_time: 7655,;predicted: 0, prediction_time: 57, train_time: 7658,;predicted: 1, prediction_time: 57, train_time: 7657,;predicted: 0, prediction_time: 68, train_time: 7651,;predicted: 1, prediction_time: 65, train_time: 7655,;predicted: 0, prediction_time: 57, train_time: 7652,;predicted: 1, prediction_time: 66, train_time: 7653,;predicted: 0, prediction_time: 60, train_time: 7648,;predicted: 1, prediction_time: 65, train_time: 7664,;predicted: 0, prediction_time: 65, train_time: 7647,;predicted: 1, prediction_time: 63, train_time: 7645,;predicted: 0, prediction_time: 58, train_time: 7665,;\n",
      "\n",
      "accuracy after 400: 0.998\n",
      "predicted: 1, prediction_time: 84, train_time: 7653,;predicted: 0, prediction_time: 60, train_time: 7675,;predicted: 1, prediction_time: 89, train_time: 7637,;predicted: 0, prediction_time: 67, train_time: 7629,;predicted: 1, prediction_time: 65, train_time: 7631,;predicted: 0, prediction_time: 88, train_time: 7692,;predicted: 1, prediction_time: 62, train_time: 7684,;predicted: 0, prediction_time: 66, train_time: 7697,;predicted: 1, prediction_time: 67, train_time: 7685,;predicted: 0, prediction_time: 60, train_time: 7688,;predicted: 1, prediction_time: 57, train_time: 7726,;predicted: 0, prediction_time: 61, train_time: 7712,;predicted: 1, prediction_time: 58, train_time: 7739,;predicted: 0, prediction_time: 67, train_time: 7726,;predicted: 1, prediction_time: 65, train_time: 7713,;predicted: 0, prediction_time: 64, train_time: 7721,;predicted: 1, prediction_time: 71, train_time: 7731,;predicted: 0, prediction_time: 62, train_time: 7741,;predicted: 1, prediction_time: 58, train_time: 7724,;predicted: 0, prediction_time: 74, train_time: 7718,;predicted: 1, prediction_time: 60, train_time: 7837,;predicted: 0, prediction_time: 60, train_time: 7827,;predicted: 1, prediction_time: 64, train_time: 7846,;predicted: 0, prediction_time: 67, train_time: 7829,;predicted: 1, prediction_time: 83, train_time: 7833,;predicted: 0, prediction_time: 70, train_time: 7832,;predicted: 1, prediction_time: 72, train_time: 7834,;predicted: 0, prediction_time: 67, train_time: 7833,;predicted: 1, prediction_time: 62, train_time: 7831,;predicted: 0, prediction_time: 63, train_time: 7830,;predicted: 1, prediction_time: 65, train_time: 7838,;predicted: 0, prediction_time: 60, train_time: 7848,;predicted: 1, prediction_time: 58, train_time: 7838,;predicted: 0, prediction_time: 58, train_time: 7829,;predicted: 1, prediction_time: 63, train_time: 7834,;predicted: 0, prediction_time: 65, train_time: 7828,;predicted: 1, prediction_time: 66, train_time: 7832,;predicted: 0, prediction_time: 61, train_time: 7835,;predicted: 1, prediction_time: 63, train_time: 7841,;predicted: 0, prediction_time: 68, train_time: 7850,;predicted: 1, prediction_time: 60, train_time: 7658,;predicted: 0, prediction_time: 64, train_time: 7642,;predicted: 1, prediction_time: 64, train_time: 7641,;predicted: 0, prediction_time: 63, train_time: 7649,;predicted: 1, prediction_time: 61, train_time: 7646,;predicted: 0, prediction_time: 57, train_time: 7635,;predicted: 1, prediction_time: 66, train_time: 7649,;predicted: 0, prediction_time: 59, train_time: 7644,;predicted: 1, prediction_time: 63, train_time: 7646,;predicted: 0, prediction_time: 78, train_time: 7648,;predicted: 1, prediction_time: 59, train_time: 7647,;predicted: 0, prediction_time: 66, train_time: 7637,;predicted: 1, prediction_time: 69, train_time: 7648,;predicted: 0, prediction_time: 72, train_time: 7651,;predicted: 1, prediction_time: 60, train_time: 7660,;predicted: 0, prediction_time: 71, train_time: 7650,;predicted: 1, prediction_time: 60, train_time: 7642,;predicted: 0, prediction_time: 60, train_time: 7640,;predicted: 1, prediction_time: 71, train_time: 7661,;predicted: 0, prediction_time: 65, train_time: 7646,;predicted: 1, prediction_time: 63, train_time: 7655,;predicted: 0, prediction_time: 66, train_time: 7652,;predicted: 1, prediction_time: 70, train_time: 7653,;predicted: 0, prediction_time: 57, train_time: 7646,;predicted: 1, prediction_time: 60, train_time: 7652,;predicted: 0, prediction_time: 59, train_time: 7649,;predicted: 1, prediction_time: 62, train_time: 7644,;predicted: 0, prediction_time: 45, train_time: 7620,;predicted: 1, prediction_time: 64, train_time: 7649,;predicted: 0, prediction_time: 61, train_time: 7633,;predicted: 1, prediction_time: 60, train_time: 7651,;predicted: 0, prediction_time: 65, train_time: 7645,;predicted: 1, prediction_time: 64, train_time: 7633,;predicted: 0, prediction_time: 64, train_time: 7639,;predicted: 1, prediction_time: 64, train_time: 7644,;predicted: 0, prediction_time: 58, train_time: 7647,;predicted: 1, prediction_time: 63, train_time: 7650,;predicted: 0, prediction_time: 87, train_time: 7652,;predicted: 1, prediction_time: 62, train_time: 7642,;predicted: 0, prediction_time: 63, train_time: 7650,;predicted: 1, prediction_time: 71, train_time: 7653,;predicted: 0, prediction_time: 57, train_time: 7623,;predicted: 1, prediction_time: 59, train_time: 7633,;predicted: 0, prediction_time: 63, train_time: 7643,;predicted: 1, prediction_time: 81, train_time: 7648,;predicted: 0, prediction_time: 68, train_time: 7641,;predicted: 1, prediction_time: 62, train_time: 7653,;predicted: 0, prediction_time: 80, train_time: 7643,;predicted: 1, prediction_time: 64, train_time: 7643,;predicted: 0, prediction_time: 66, train_time: 7651,;predicted: 1, prediction_time: 61, train_time: 7646,;predicted: 0, prediction_time: 68, train_time: 7647,;predicted: 1, prediction_time: 63, train_time: 7650,;predicted: 0, prediction_time: 57, train_time: 7658,;predicted: 1, prediction_time: 62, train_time: 7646,;predicted: 0, prediction_time: 58, train_time: 7642,;predicted: 1, prediction_time: 60, train_time: 7659,;predicted: 0, prediction_time: 66, train_time: 7644,;predicted: 1, prediction_time: 60, train_time: 7645,;predicted: 0, prediction_time: 64, train_time: 7644,;\n",
      "\n",
      "accuracy after 500: 0.998\n",
      "predicted: 1, prediction_time: 83, train_time: 7656,;predicted: 0, prediction_time: 63, train_time: 7674,;predicted: 1, prediction_time: 84, train_time: 7636,;predicted: 0, prediction_time: 64, train_time: 7625,;predicted: 1, prediction_time: 62, train_time: 7630,;predicted: 0, prediction_time: 84, train_time: 7693,;predicted: 1, prediction_time: 68, train_time: 7684,;predicted: 0, prediction_time: 59, train_time: 7692,;predicted: 1, prediction_time: 63, train_time: 7690,;predicted: 0, prediction_time: 64, train_time: 7684,;predicted: 1, prediction_time: 57, train_time: 7732,;predicted: 0, prediction_time: 59, train_time: 7726,;predicted: 1, prediction_time: 58, train_time: 7732,;predicted: 0, prediction_time: 62, train_time: 7731,;predicted: 1, prediction_time: 63, train_time: 7714,;predicted: 0, prediction_time: 56, train_time: 7736,;predicted: 1, prediction_time: 69, train_time: 7729,;predicted: 0, prediction_time: 61, train_time: 7734,;predicted: 1, prediction_time: 71, train_time: 7724,;predicted: 0, prediction_time: 76, train_time: 7727,;predicted: 1, prediction_time: 63, train_time: 7853,;predicted: 0, prediction_time: 58, train_time: 7828,;predicted: 1, prediction_time: 56, train_time: 7838,;predicted: 0, prediction_time: 64, train_time: 7824,;predicted: 1, prediction_time: 64, train_time: 7835,;predicted: 0, prediction_time: 73, train_time: 7844,;predicted: 1, prediction_time: 59, train_time: 7834,;predicted: 0, prediction_time: 72, train_time: 7827,;predicted: 1, prediction_time: 72, train_time: 7835,;predicted: 0, prediction_time: 70, train_time: 7831,;predicted: 1, prediction_time: 80, train_time: 7840,;predicted: 0, prediction_time: 62, train_time: 7834,;predicted: 1, prediction_time: 72, train_time: 7841,;predicted: 0, prediction_time: 58, train_time: 7828,;predicted: 1, prediction_time: 75, train_time: 7833,;predicted: 0, prediction_time: 64, train_time: 7841,;predicted: 1, prediction_time: 65, train_time: 7837,;predicted: 0, prediction_time: 57, train_time: 7830,;predicted: 1, prediction_time: 64, train_time: 7848,;predicted: 0, prediction_time: 58, train_time: 7847,;predicted: 1, prediction_time: 58, train_time: 7656,;predicted: 0, prediction_time: 64, train_time: 7650,;predicted: 1, prediction_time: 62, train_time: 7654,;predicted: 0, prediction_time: 66, train_time: 7651,;predicted: 1, prediction_time: 76, train_time: 7649,;predicted: 0, prediction_time: 59, train_time: 7635,;predicted: 1, prediction_time: 65, train_time: 7650,;predicted: 0, prediction_time: 61, train_time: 7650,;predicted: 1, prediction_time: 62, train_time: 7646,;predicted: 0, prediction_time: 80, train_time: 7645,;predicted: 1, prediction_time: 65, train_time: 7646,;predicted: 0, prediction_time: 63, train_time: 7638,;predicted: 1, prediction_time: 64, train_time: 7651,;predicted: 0, prediction_time: 70, train_time: 7647,;predicted: 1, prediction_time: 64, train_time: 7648,;predicted: 0, prediction_time: 58, train_time: 7647,;predicted: 1, prediction_time: 60, train_time: 7647,;predicted: 0, prediction_time: 63, train_time: 7641,;predicted: 1, prediction_time: 61, train_time: 7655,;predicted: 0, prediction_time: 68, train_time: 7647,;predicted: 1, prediction_time: 66, train_time: 7648,;predicted: 0, prediction_time: 60, train_time: 7660,;predicted: 1, prediction_time: 67, train_time: 7649,;predicted: 0, prediction_time: 59, train_time: 7647,;predicted: 1, prediction_time: 63, train_time: 7666,;predicted: 0, prediction_time: 65, train_time: 7646,;predicted: 1, prediction_time: 62, train_time: 7650,;predicted: 0, prediction_time: 44, train_time: 7625,;predicted: 1, prediction_time: 78, train_time: 7645,;predicted: 0, prediction_time: 60, train_time: 7646,;predicted: 1, prediction_time: 66, train_time: 7651,;predicted: 0, prediction_time: 66, train_time: 7651,;predicted: 1, prediction_time: 63, train_time: 7634,;predicted: 0, prediction_time: 66, train_time: 7633,;predicted: 1, prediction_time: 63, train_time: 7647,;predicted: 0, prediction_time: 64, train_time: 7649,;predicted: 1, prediction_time: 65, train_time: 7658,;predicted: 0, prediction_time: 78, train_time: 7652,;predicted: 1, prediction_time: 66, train_time: 7649,;predicted: 0, prediction_time: 57, train_time: 7663,;predicted: 1, prediction_time: 76, train_time: 7652,;predicted: 0, prediction_time: 50, train_time: 7626,;predicted: 1, prediction_time: 63, train_time: 7636,;predicted: 0, prediction_time: 66, train_time: 7645,;predicted: 1, prediction_time: 77, train_time: 7653,;predicted: 0, prediction_time: 70, train_time: 7643,;predicted: 1, prediction_time: 65, train_time: 7657,;predicted: 0, prediction_time: 77, train_time: 7648,;predicted: 1, prediction_time: 63, train_time: 7652,;predicted: 0, prediction_time: 57, train_time: 7651,;predicted: 1, prediction_time: 57, train_time: 7646,;predicted: 0, prediction_time: 63, train_time: 7650,;predicted: 1, prediction_time: 58, train_time: 7653,;predicted: 0, prediction_time: 62, train_time: 7654,;predicted: 1, prediction_time: 63, train_time: 7646,;predicted: 0, prediction_time: 56, train_time: 7645,;predicted: 1, prediction_time: 62, train_time: 7663,;predicted: 0, prediction_time: 71, train_time: 7652,;predicted: 1, prediction_time: 57, train_time: 7637,;predicted: 0, prediction_time: 64, train_time: 7647,;\n",
      "\n",
      "accuracy after 600: 0.998\n",
      "predicted: 1, prediction_time: 84, train_time: 7654,;predicted: 0, prediction_time: 60, train_time: 7678,;predicted: 1, prediction_time: 92, train_time: 7633,;predicted: 0, prediction_time: 62, train_time: 7629,;predicted: 1, prediction_time: 63, train_time: 7636,;predicted: 0, prediction_time: 85, train_time: 7693,;predicted: 1, prediction_time: 64, train_time: 7682,;predicted: 0, prediction_time: 67, train_time: 7695,;predicted: 1, prediction_time: 67, train_time: 7689,;predicted: 0, prediction_time: 60, train_time: 7686,;predicted: 1, prediction_time: 59, train_time: 7725,;predicted: 0, prediction_time: 62, train_time: 7715,;predicted: 1, prediction_time: 63, train_time: 7732,;predicted: 0, prediction_time: 64, train_time: 7725,;predicted: 1, prediction_time: 59, train_time: 7714,;predicted: 0, prediction_time: 58, train_time: 7720,;predicted: 1, prediction_time: 69, train_time: 7727,;predicted: 0, prediction_time: 62, train_time: 7739,;predicted: 1, prediction_time: 58, train_time: 7718,;predicted: 0, prediction_time: 71, train_time: 7722,;predicted: 1, prediction_time: 60, train_time: 7839,;predicted: 0, prediction_time: 60, train_time: 7824,;predicted: 1, prediction_time: 64, train_time: 7842,;predicted: 0, prediction_time: 65, train_time: 7827,;predicted: 1, prediction_time: 68, train_time: 7831,;predicted: 0, prediction_time: 72, train_time: 7830,;predicted: 1, prediction_time: 76, train_time: 7830,;predicted: 0, prediction_time: 66, train_time: 7835,;predicted: 1, prediction_time: 74, train_time: 7833,;predicted: 0, prediction_time: 64, train_time: 7829,;predicted: 1, prediction_time: 71, train_time: 7834,;predicted: 0, prediction_time: 61, train_time: 7851,;predicted: 1, prediction_time: 62, train_time: 7841,;predicted: 0, prediction_time: 62, train_time: 7830,;predicted: 1, prediction_time: 66, train_time: 7835,;predicted: 0, prediction_time: 66, train_time: 7845,;predicted: 1, prediction_time: 68, train_time: 7834,;predicted: 0, prediction_time: 62, train_time: 7844,;predicted: 1, prediction_time: 63, train_time: 7841,;predicted: 0, prediction_time: 65, train_time: 7851,;predicted: 1, prediction_time: 60, train_time: 7655,;predicted: 0, prediction_time: 67, train_time: 7649,;predicted: 1, prediction_time: 61, train_time: 7665,;predicted: 0, prediction_time: 63, train_time: 7652,;predicted: 1, prediction_time: 68, train_time: 7648,;predicted: 0, prediction_time: 61, train_time: 7658,;predicted: 1, prediction_time: 66, train_time: 7648,;predicted: 0, prediction_time: 68, train_time: 7637,;predicted: 1, prediction_time: 60, train_time: 7641,;predicted: 0, prediction_time: 57, train_time: 7654,;predicted: 1, prediction_time: 59, train_time: 7649,;predicted: 0, prediction_time: 58, train_time: 7651,;predicted: 1, prediction_time: 89, train_time: 7650,;predicted: 0, prediction_time: 60, train_time: 7646,;predicted: 1, prediction_time: 65, train_time: 7652,;predicted: 0, prediction_time: 85, train_time: 7645,;predicted: 1, prediction_time: 64, train_time: 7641,;predicted: 0, prediction_time: 61, train_time: 7639,;predicted: 1, prediction_time: 60, train_time: 7666,;predicted: 0, prediction_time: 72, train_time: 7649,;predicted: 1, prediction_time: 63, train_time: 7654,;predicted: 0, prediction_time: 64, train_time: 7650,;predicted: 1, prediction_time: 70, train_time: 7646,;predicted: 0, prediction_time: 61, train_time: 7651,;predicted: 1, prediction_time: 62, train_time: 7648,;predicted: 0, prediction_time: 65, train_time: 7646,;predicted: 1, prediction_time: 68, train_time: 7644,;predicted: 0, prediction_time: 49, train_time: 7607,;predicted: 1, prediction_time: 63, train_time: 7649,;predicted: 0, prediction_time: 63, train_time: 7639,;predicted: 1, prediction_time: 62, train_time: 7649,;predicted: 0, prediction_time: 68, train_time: 7647,;predicted: 1, prediction_time: 68, train_time: 7637,;predicted: 0, prediction_time: 64, train_time: 7638,;predicted: 1, prediction_time: 66, train_time: 7648,;predicted: 0, prediction_time: 63, train_time: 7643,;predicted: 1, prediction_time: 60, train_time: 7649,;predicted: 0, prediction_time: 81, train_time: 7643,;predicted: 1, prediction_time: 65, train_time: 7641,;predicted: 0, prediction_time: 61, train_time: 7647,;predicted: 1, prediction_time: 73, train_time: 7649,;predicted: 0, prediction_time: 53, train_time: 7619,;predicted: 1, prediction_time: 68, train_time: 7645,;predicted: 0, prediction_time: 58, train_time: 7645,;predicted: 1, prediction_time: 78, train_time: 7640,;predicted: 0, prediction_time: 62, train_time: 7646,;predicted: 1, prediction_time: 67, train_time: 7651,;predicted: 0, prediction_time: 79, train_time: 7641,;predicted: 1, prediction_time: 74, train_time: 7649,;predicted: 0, prediction_time: 58, train_time: 7667,;predicted: 1, prediction_time: 58, train_time: 7645,;predicted: 0, prediction_time: 71, train_time: 7650,;predicted: 1, prediction_time: 66, train_time: 7656,;predicted: 0, prediction_time: 58, train_time: 7650,;predicted: 1, prediction_time: 67, train_time: 7651,;predicted: 0, prediction_time: 58, train_time: 7648,;predicted: 1, prediction_time: 64, train_time: 7653,;predicted: 0, prediction_time: 67, train_time: 7645,;predicted: 1, prediction_time: 59, train_time: 7642,;predicted: 0, prediction_time: 60, train_time: 7644,;\n",
      "\n",
      "accuracy after 700: 0.999\n",
      "predicted: 1, prediction_time: 78, train_time: 7651,;predicted: 0, prediction_time: 59, train_time: 7677,;predicted: 1, prediction_time: 86, train_time: 7640,;predicted: 0, prediction_time: 61, train_time: 7625,;predicted: 1, prediction_time: 63, train_time: 7631,;predicted: 0, prediction_time: 87, train_time: 7697,;predicted: 1, prediction_time: 61, train_time: 7687,;predicted: 0, prediction_time: 59, train_time: 7710,;predicted: 1, prediction_time: 63, train_time: 7697,;predicted: 0, prediction_time: 65, train_time: 7694,;predicted: 1, prediction_time: 61, train_time: 7724,;predicted: 0, prediction_time: 62, train_time: 7716,;predicted: 1, prediction_time: 60, train_time: 7738,;predicted: 0, prediction_time: 63, train_time: 7726,;predicted: 1, prediction_time: 62, train_time: 7719,;predicted: 0, prediction_time: 58, train_time: 7725,;predicted: 1, prediction_time: 62, train_time: 7728,;predicted: 0, prediction_time: 67, train_time: 7741,;predicted: 1, prediction_time: 61, train_time: 7723,;predicted: 0, prediction_time: 73, train_time: 7719,;predicted: 1, prediction_time: 59, train_time: 7849,;predicted: 0, prediction_time: 58, train_time: 7831,;predicted: 1, prediction_time: 56, train_time: 7851,;predicted: 0, prediction_time: 64, train_time: 7839,;predicted: 1, prediction_time: 77, train_time: 7837,;predicted: 0, prediction_time: 60, train_time: 7834,;predicted: 1, prediction_time: 70, train_time: 7838,;predicted: 0, prediction_time: 62, train_time: 7843,;predicted: 1, prediction_time: 61, train_time: 7833,;predicted: 0, prediction_time: 61, train_time: 7834,;predicted: 1, prediction_time: 63, train_time: 7839,;predicted: 0, prediction_time: 59, train_time: 7841,;predicted: 1, prediction_time: 56, train_time: 7845,;predicted: 0, prediction_time: 57, train_time: 7833,;predicted: 1, prediction_time: 57, train_time: 7833,;predicted: 0, prediction_time: 59, train_time: 7850,;predicted: 1, prediction_time: 67, train_time: 7841,;predicted: 0, prediction_time: 57, train_time: 7841,;predicted: 1, prediction_time: 63, train_time: 7841,;predicted: 0, prediction_time: 59, train_time: 7859,;predicted: 1, prediction_time: 58, train_time: 7659,;predicted: 0, prediction_time: 68, train_time: 7646,;predicted: 1, prediction_time: 62, train_time: 7653,;predicted: 0, prediction_time: 65, train_time: 7650,;predicted: 1, prediction_time: 67, train_time: 7648,;predicted: 0, prediction_time: 57, train_time: 7661,;predicted: 1, prediction_time: 65, train_time: 7650,;predicted: 0, prediction_time: 73, train_time: 7642,;predicted: 1, prediction_time: 61, train_time: 7656,;predicted: 0, prediction_time: 61, train_time: 7652,;predicted: 1, prediction_time: 62, train_time: 7646,;predicted: 0, prediction_time: 60, train_time: 7653,;predicted: 1, prediction_time: 85, train_time: 7650,;predicted: 0, prediction_time: 59, train_time: 7643,;predicted: 1, prediction_time: 59, train_time: 7654,;predicted: 0, prediction_time: 74, train_time: 7647,;predicted: 1, prediction_time: 63, train_time: 7654,;predicted: 0, prediction_time: 65, train_time: 7657,;predicted: 1, prediction_time: 65, train_time: 7655,;predicted: 0, prediction_time: 70, train_time: 7653,;predicted: 1, prediction_time: 68, train_time: 7654,;predicted: 0, prediction_time: 86, train_time: 7651,;predicted: 1, prediction_time: 65, train_time: 7647,;predicted: 0, prediction_time: 57, train_time: 7655,;predicted: 1, prediction_time: 87, train_time: 7652,;predicted: 0, prediction_time: 61, train_time: 7650,;predicted: 1, prediction_time: 61, train_time: 7659,;predicted: 0, prediction_time: 49, train_time: 7634,;predicted: 1, prediction_time: 62, train_time: 7651,;predicted: 0, prediction_time: 72, train_time: 7644,;predicted: 1, prediction_time: 63, train_time: 7646,;predicted: 0, prediction_time: 63, train_time: 7652,;predicted: 1, prediction_time: 62, train_time: 7646,;predicted: 0, prediction_time: 62, train_time: 7648,;predicted: 1, prediction_time: 63, train_time: 7647,;predicted: 0, prediction_time: 69, train_time: 7645,;predicted: 1, prediction_time: 58, train_time: 7647,;predicted: 0, prediction_time: 58, train_time: 7648,;predicted: 1, prediction_time: 72, train_time: 7644,;predicted: 0, prediction_time: 59, train_time: 7634,;predicted: 1, prediction_time: 60, train_time: 7651,;predicted: 0, prediction_time: 53, train_time: 7629,;predicted: 1, prediction_time: 67, train_time: 7643,;predicted: 0, prediction_time: 58, train_time: 7655,;predicted: 1, prediction_time: 61, train_time: 7652,;predicted: 0, prediction_time: 63, train_time: 7641,;predicted: 1, prediction_time: 61, train_time: 7650,;predicted: 0, prediction_time: 57, train_time: 7648,;predicted: 1, prediction_time: 65, train_time: 7637,;predicted: 0, prediction_time: 62, train_time: 7654,;predicted: 1, prediction_time: 78, train_time: 7648,;predicted: 0, prediction_time: 67, train_time: 7654,;predicted: 1, prediction_time: 58, train_time: 7656,;predicted: 0, prediction_time: 69, train_time: 7651,;predicted: 1, prediction_time: 67, train_time: 7653,;predicted: 0, prediction_time: 61, train_time: 7646,;predicted: 1, prediction_time: 59, train_time: 7654,;predicted: 0, prediction_time: 70, train_time: 7650,;predicted: 1, prediction_time: 56, train_time: 7647,;predicted: 0, prediction_time: 62, train_time: 7657,;\n",
      "\n",
      "accuracy after 800: 0.999\n",
      "predicted: 1, prediction_time: 80, train_time: 7650,;predicted: 0, prediction_time: 60, train_time: 7678,;predicted: 1, prediction_time: 87, train_time: 7633,;predicted: 0, prediction_time: 68, train_time: 7626,;predicted: 1, prediction_time: 64, train_time: 7631,;predicted: 0, prediction_time: 95, train_time: 7688,;predicted: 1, prediction_time: 67, train_time: 7680,;predicted: 0, prediction_time: 60, train_time: 7705,;predicted: 1, prediction_time: 70, train_time: 7687,;predicted: 0, prediction_time: 63, train_time: 7685,;predicted: 1, prediction_time: 58, train_time: 7726,;predicted: 0, prediction_time: 59, train_time: 7721,;predicted: 1, prediction_time: 64, train_time: 7732,;predicted: 0, prediction_time: 68, train_time: 7718,;predicted: 1, prediction_time: 66, train_time: 7712,;predicted: 0, prediction_time: 57, train_time: 7721,;predicted: 1, prediction_time: 64, train_time: 7730,;predicted: 0, prediction_time: 68, train_time: 7738,;predicted: 1, prediction_time: 58, train_time: 7724,;predicted: 0, prediction_time: 75, train_time: 7717,;predicted: 1, prediction_time: 65, train_time: 7833,;predicted: 0, prediction_time: 66, train_time: 7829,;predicted: 1, prediction_time: 58, train_time: 7845,;predicted: 0, prediction_time: 65, train_time: 7829,;predicted: 1, prediction_time: 73, train_time: 7837,;predicted: 0, prediction_time: 76, train_time: 7830,;predicted: 1, prediction_time: 76, train_time: 7828,;predicted: 0, prediction_time: 64, train_time: 7833,;predicted: 1, prediction_time: 72, train_time: 7828,;predicted: 0, prediction_time: 64, train_time: 7825,;predicted: 1, prediction_time: 78, train_time: 7834,;predicted: 0, prediction_time: 64, train_time: 7842,;predicted: 1, prediction_time: 62, train_time: 7834,;predicted: 0, prediction_time: 60, train_time: 7827,;predicted: 1, prediction_time: 76, train_time: 7830,;predicted: 0, prediction_time: 62, train_time: 7832,;predicted: 1, prediction_time: 68, train_time: 7829,;predicted: 0, prediction_time: 62, train_time: 7829,;predicted: 1, prediction_time: 65, train_time: 7838,;predicted: 0, prediction_time: 65, train_time: 7841,;predicted: 1, prediction_time: 59, train_time: 7649,;predicted: 0, prediction_time: 60, train_time: 7637,;predicted: 1, prediction_time: 65, train_time: 7652,;predicted: 0, prediction_time: 63, train_time: 7649,;predicted: 1, prediction_time: 64, train_time: 7640,;predicted: 0, prediction_time: 63, train_time: 7647,;predicted: 1, prediction_time: 70, train_time: 7647,;predicted: 0, prediction_time: 65, train_time: 7637,;predicted: 1, prediction_time: 60, train_time: 7650,;predicted: 0, prediction_time: 79, train_time: 7648,;predicted: 1, prediction_time: 59, train_time: 7642,;predicted: 0, prediction_time: 62, train_time: 7632,;predicted: 1, prediction_time: 66, train_time: 7650,;predicted: 0, prediction_time: 64, train_time: 7645,;predicted: 1, prediction_time: 63, train_time: 7641,;predicted: 0, prediction_time: 67, train_time: 7645,;predicted: 1, prediction_time: 59, train_time: 7644,;predicted: 0, prediction_time: 61, train_time: 7639,;predicted: 1, prediction_time: 68, train_time: 7659,;predicted: 0, prediction_time: 65, train_time: 7642,;predicted: 1, prediction_time: 70, train_time: 7644,;predicted: 0, prediction_time: 69, train_time: 7655,;predicted: 1, prediction_time: 69, train_time: 7646,;predicted: 0, prediction_time: 58, train_time: 7651,;predicted: 1, prediction_time: 60, train_time: 7662,;predicted: 0, prediction_time: 68, train_time: 7640,;predicted: 1, prediction_time: 69, train_time: 7646,;predicted: 0, prediction_time: 56, train_time: 7622,;predicted: 1, prediction_time: 83, train_time: 7649,;predicted: 0, prediction_time: 66, train_time: 7643,;predicted: 1, prediction_time: 68, train_time: 7649,;predicted: 0, prediction_time: 68, train_time: 7647,;predicted: 1, prediction_time: 63, train_time: 7637,;predicted: 0, prediction_time: 60, train_time: 7639,;predicted: 1, prediction_time: 67, train_time: 7641,;predicted: 0, prediction_time: 66, train_time: 7650,;predicted: 1, prediction_time: 59, train_time: 7650,;predicted: 0, prediction_time: 83, train_time: 7649,;predicted: 1, prediction_time: 68, train_time: 7646,;predicted: 0, prediction_time: 61, train_time: 7647,;predicted: 1, prediction_time: 70, train_time: 7653,;predicted: 0, prediction_time: 51, train_time: 7624,;predicted: 1, prediction_time: 59, train_time: 7630,;predicted: 0, prediction_time: 58, train_time: 7648,;predicted: 1, prediction_time: 81, train_time: 7645,;predicted: 0, prediction_time: 62, train_time: 7644,;predicted: 1, prediction_time: 62, train_time: 7656,;predicted: 0, prediction_time: 83, train_time: 7646,;predicted: 1, prediction_time: 67, train_time: 7650,;predicted: 0, prediction_time: 58, train_time: 7650,;predicted: 1, prediction_time: 58, train_time: 7645,;predicted: 0, prediction_time: 64, train_time: 7650,;predicted: 1, prediction_time: 66, train_time: 7652,;predicted: 0, prediction_time: 58, train_time: 7655,;predicted: 1, prediction_time: 62, train_time: 7649,;predicted: 0, prediction_time: 62, train_time: 7643,;predicted: 1, prediction_time: 64, train_time: 7655,;predicted: 0, prediction_time: 70, train_time: 7643,;predicted: 1, prediction_time: 58, train_time: 7638,;predicted: 0, prediction_time: 60, train_time: 7648,;\n",
      "\n",
      "accuracy after 900: 0.999\n",
      "predicted: 1, prediction_time: 78, train_time: 7656,;predicted: 0, prediction_time: 59, train_time: 7674,;predicted: 1, prediction_time: 81, train_time: 7640,;predicted: 0, prediction_time: 61, train_time: 7629,;predicted: 1, prediction_time: 62, train_time: 7632,;predicted: 0, prediction_time: 84, train_time: 7689,;predicted: 1, prediction_time: 67, train_time: 7685,;predicted: 0, prediction_time: 59, train_time: 7700,;predicted: 1, prediction_time: 66, train_time: 7691,;predicted: 0, prediction_time: 62, train_time: 7692,;predicted: 1, prediction_time: 57, train_time: 7727,;predicted: 0, prediction_time: 58, train_time: 7728,;predicted: 1, prediction_time: 56, train_time: 7731,;predicted: 0, prediction_time: 63, train_time: 7728,;predicted: 1, prediction_time: 66, train_time: 7725,;predicted: 0, prediction_time: 56, train_time: 7727,;predicted: 1, prediction_time: 68, train_time: 7737,;predicted: 0, prediction_time: 61, train_time: 7741,;predicted: 1, prediction_time: 60, train_time: 7718,;predicted: 0, prediction_time: 70, train_time: 7719,;predicted: 1, prediction_time: 59, train_time: 7851,;predicted: 0, prediction_time: 64, train_time: 7831,;predicted: 1, prediction_time: 56, train_time: 7846,;predicted: 0, prediction_time: 69, train_time: 7833,;predicted: 1, prediction_time: 65, train_time: 7836,;predicted: 0, prediction_time: 73, train_time: 7831,;predicted: 1, prediction_time: 74, train_time: 7836,;predicted: 0, prediction_time: 66, train_time: 7839,;predicted: 1, prediction_time: 67, train_time: 7831,;predicted: 0, prediction_time: 60, train_time: 7828,;predicted: 1, prediction_time: 77, train_time: 7835,;predicted: 0, prediction_time: 60, train_time: 7847,;predicted: 1, prediction_time: 57, train_time: 7839,;predicted: 0, prediction_time: 62, train_time: 7836,;predicted: 1, prediction_time: 70, train_time: 7836,;predicted: 0, prediction_time: 61, train_time: 7834,;predicted: 1, prediction_time: 67, train_time: 7836,;predicted: 0, prediction_time: 58, train_time: 7841,;predicted: 1, prediction_time: 62, train_time: 7845,;predicted: 0, prediction_time: 67, train_time: 7851,;predicted: 1, prediction_time: 65, train_time: 7650,;predicted: 0, prediction_time: 65, train_time: 7647,;predicted: 1, prediction_time: 60, train_time: 7643,;predicted: 0, prediction_time: 62, train_time: 7654,;predicted: 1, prediction_time: 66, train_time: 7646,;predicted: 0, prediction_time: 63, train_time: 7653,;predicted: 1, prediction_time: 65, train_time: 7652,;predicted: 0, prediction_time: 58, train_time: 7647,;predicted: 1, prediction_time: 58, train_time: 7647,;predicted: 0, prediction_time: 85, train_time: 7641,;predicted: 1, prediction_time: 64, train_time: 7650,;predicted: 0, prediction_time: 60, train_time: 7649,;predicted: 1, prediction_time: 64, train_time: 7645,;predicted: 0, prediction_time: 63, train_time: 7647,;predicted: 1, prediction_time: 59, train_time: 7647,;predicted: 0, prediction_time: 59, train_time: 7651,;predicted: 1, prediction_time: 58, train_time: 7655,;predicted: 0, prediction_time: 60, train_time: 7642,;predicted: 1, prediction_time: 62, train_time: 7657,;predicted: 0, prediction_time: 68, train_time: 7645,;predicted: 1, prediction_time: 76, train_time: 7653,;predicted: 0, prediction_time: 60, train_time: 7656,;predicted: 1, prediction_time: 69, train_time: 7657,;predicted: 0, prediction_time: 57, train_time: 7646,;predicted: 1, prediction_time: 59, train_time: 7661,;predicted: 0, prediction_time: 63, train_time: 7643,;predicted: 1, prediction_time: 66, train_time: 7642,;predicted: 0, prediction_time: 52, train_time: 7622,;predicted: 1, prediction_time: 88, train_time: 7654,;predicted: 0, prediction_time: 60, train_time: 7646,;predicted: 1, prediction_time: 59, train_time: 7651,;predicted: 0, prediction_time: 67, train_time: 7649,;predicted: 1, prediction_time: 61, train_time: 7642,;predicted: 0, prediction_time: 58, train_time: 7649,;predicted: 1, prediction_time: 63, train_time: 7652,;predicted: 0, prediction_time: 58, train_time: 7651,;predicted: 1, prediction_time: 65, train_time: 7651,;predicted: 0, prediction_time: 74, train_time: 7653,;predicted: 1, prediction_time: 61, train_time: 7646,;predicted: 0, prediction_time: 65, train_time: 7660,;predicted: 1, prediction_time: 83, train_time: 7654,;predicted: 0, prediction_time: 50, train_time: 7621,;predicted: 1, prediction_time: 66, train_time: 7638,;predicted: 0, prediction_time: 59, train_time: 7646,;predicted: 1, prediction_time: 79, train_time: 7647,;predicted: 0, prediction_time: 59, train_time: 7642,;predicted: 1, prediction_time: 63, train_time: 7658,;predicted: 0, prediction_time: 81, train_time: 7649,;predicted: 1, prediction_time: 63, train_time: 7648,;predicted: 0, prediction_time: 56, train_time: 7653,;predicted: 1, prediction_time: 57, train_time: 7649,;predicted: 0, prediction_time: 63, train_time: 7650,;predicted: 1, prediction_time: 62, train_time: 7657,;predicted: 0, prediction_time: 56, train_time: 7648,;predicted: 1, prediction_time: 63, train_time: 7650,;predicted: 0, prediction_time: 56, train_time: 7651,;predicted: 1, prediction_time: 59, train_time: 7675,;predicted: 0, prediction_time: 69, train_time: 7654,;predicted: 1, prediction_time: 57, train_time: 7649,;predicted: 0, prediction_time: 59, train_time: 7662,;\n",
      "\n",
      "accuracy after 1000: 0.999\n",
      "predicted: 1, prediction_time: 84, train_time: 7654,;predicted: 0, prediction_time: 60, train_time: 7672,;predicted: 1, prediction_time: 87, train_time: 7629,;predicted: 0, prediction_time: 62, train_time: 7624,;predicted: 1, prediction_time: 62, train_time: 7631,;predicted: 0, prediction_time: 84, train_time: 7688,;predicted: 1, prediction_time: 62, train_time: 7681,;predicted: 0, prediction_time: 64, train_time: 7700,;predicted: 1, prediction_time: 65, train_time: 7686,;predicted: 0, prediction_time: 64, train_time: 7691,;predicted: 1, prediction_time: 57, train_time: 7723,;predicted: 0, prediction_time: 59, train_time: 7723,;predicted: 1, prediction_time: 58, train_time: 7728,;predicted: 0, prediction_time: 67, train_time: 7721,;predicted: 1, prediction_time: 72, train_time: 7723,;predicted: 0, prediction_time: 60, train_time: 7721,;predicted: 1, prediction_time: 68, train_time: 7731,;predicted: 0, prediction_time: 66, train_time: 7726,;predicted: 1, prediction_time: 62, train_time: 7717,;predicted: 0, prediction_time: 76, train_time: 7725,;predicted: 1, prediction_time: 60, train_time: 7849,;predicted: 0, prediction_time: 59, train_time: 7823,;predicted: 1, prediction_time: 57, train_time: 7837,;predicted: 0, prediction_time: 65, train_time: 7827,;predicted: 1, prediction_time: 63, train_time: 7832,;predicted: 0, prediction_time: 78, train_time: 7824,;predicted: 1, prediction_time: 62, train_time: 7827,;predicted: 0, prediction_time: 79, train_time: 7822,;predicted: 1, prediction_time: 69, train_time: 7830,;predicted: 0, prediction_time: 73, train_time: 7829,;predicted: 1, prediction_time: 87, train_time: 7833,;predicted: 0, prediction_time: 61, train_time: 7833,;predicted: 1, prediction_time: 76, train_time: 7837,;predicted: 0, prediction_time: 72, train_time: 7829,;predicted: 1, prediction_time: 74, train_time: 7834,;predicted: 0, prediction_time: 73, train_time: 7831,;predicted: 1, prediction_time: 67, train_time: 7826,;predicted: 0, prediction_time: 60, train_time: 7829,;predicted: 1, prediction_time: 74, train_time: 7832,;predicted: 0, prediction_time: 60, train_time: 7838,;predicted: 1, prediction_time: 61, train_time: 7656,;predicted: 0, prediction_time: 62, train_time: 7644,;predicted: 1, prediction_time: 60, train_time: 7652,;predicted: 0, prediction_time: 67, train_time: 7649,;predicted: 1, prediction_time: 62, train_time: 7633,;predicted: 0, prediction_time: 58, train_time: 7647,;predicted: 1, prediction_time: 78, train_time: 7654,;predicted: 0, prediction_time: 58, train_time: 7645,;predicted: 1, prediction_time: 60, train_time: 7651,;predicted: 0, prediction_time: 82, train_time: 7646,;predicted: 1, prediction_time: 59, train_time: 7642,;predicted: 0, prediction_time: 62, train_time: 7643,;predicted: 1, prediction_time: 68, train_time: 7658,;predicted: 0, prediction_time: 64, train_time: 7647,;predicted: 1, prediction_time: 60, train_time: 7644,;predicted: 0, prediction_time: 66, train_time: 7645,;predicted: 1, prediction_time: 65, train_time: 7641,;predicted: 0, prediction_time: 58, train_time: 7637,;predicted: 1, prediction_time: 66, train_time: 7651,;predicted: 0, prediction_time: 67, train_time: 7644,;predicted: 1, prediction_time: 70, train_time: 7649,;predicted: 0, prediction_time: 60, train_time: 7666,;predicted: 1, prediction_time: 70, train_time: 7648,;predicted: 0, prediction_time: 66, train_time: 7639,;predicted: 1, prediction_time: 66, train_time: 7664,;predicted: 0, prediction_time: 59, train_time: 7645,;predicted: 1, prediction_time: 68, train_time: 7651,;predicted: 0, prediction_time: 51, train_time: 7627,;predicted: 1, prediction_time: 82, train_time: 7646,;predicted: 0, prediction_time: 67, train_time: 7646,;predicted: 1, prediction_time: 60, train_time: 7652,;predicted: 0, prediction_time: 67, train_time: 7649,;predicted: 1, prediction_time: 68, train_time: 7634,;predicted: 0, prediction_time: 64, train_time: 7636,;predicted: 1, prediction_time: 67, train_time: 7646,;predicted: 0, prediction_time: 62, train_time: 7646,;predicted: 1, prediction_time: 70, train_time: 7648,;predicted: 0, prediction_time: 78, train_time: 7647,;predicted: 1, prediction_time: 67, train_time: 7647,;predicted: 0, prediction_time: 57, train_time: 7649,;predicted: 1, prediction_time: 66, train_time: 7649,;predicted: 0, prediction_time: 56, train_time: 7622,;predicted: 1, prediction_time: 64, train_time: 7631,;predicted: 0, prediction_time: 63, train_time: 7646,;predicted: 1, prediction_time: 84, train_time: 7643,;predicted: 0, prediction_time: 62, train_time: 7645,;predicted: 1, prediction_time: 62, train_time: 7652,;predicted: 0, prediction_time: 79, train_time: 7642,;predicted: 1, prediction_time: 64, train_time: 7645,;predicted: 0, prediction_time: 58, train_time: 7648,;predicted: 1, prediction_time: 58, train_time: 7655,;predicted: 0, prediction_time: 65, train_time: 7647,;predicted: 1, prediction_time: 66, train_time: 7645,;predicted: 0, prediction_time: 58, train_time: 7655,;predicted: 1, prediction_time: 64, train_time: 7645,;predicted: 0, prediction_time: 60, train_time: 7653,;predicted: 1, prediction_time: 60, train_time: 7648,;predicted: 0, prediction_time: 69, train_time: 7641,;predicted: 1, prediction_time: 71, train_time: 7640,;predicted: 0, prediction_time: 60, train_time: 7642,;\n",
      "\n",
      "accuracy after 1100: 0.999\n",
      "predicted: 1, prediction_time: 78, train_time: 7653,;predicted: 0, prediction_time: 59, train_time: 7682,;predicted: 1, prediction_time: 83, train_time: 7639,;predicted: 0, prediction_time: 65, train_time: 7628,;predicted: 1, prediction_time: 59, train_time: 7632,;predicted: 0, prediction_time: 88, train_time: 7694,;predicted: 1, prediction_time: 61, train_time: 7687,;predicted: 0, prediction_time: 59, train_time: 7709,;predicted: 1, prediction_time: 66, train_time: 7691,;predicted: 0, prediction_time: 58, train_time: 7686,;predicted: 1, prediction_time: 57, train_time: 7724,;predicted: 0, prediction_time: 58, train_time: 7722,;predicted: 1, prediction_time: 61, train_time: 7738,;predicted: 0, prediction_time: 63, train_time: 7725,;predicted: 1, prediction_time: 65, train_time: 7724,;predicted: 0, prediction_time: 59, train_time: 7720,;predicted: 1, prediction_time: 64, train_time: 7734,;predicted: 0, prediction_time: 61, train_time: 7744,;predicted: 1, prediction_time: 57, train_time: 7721,;predicted: 0, prediction_time: 70, train_time: 7719,;predicted: 1, prediction_time: 59, train_time: 7853,;predicted: 0, prediction_time: 58, train_time: 7832,;predicted: 1, prediction_time: 56, train_time: 7854,;predicted: 0, prediction_time: 68, train_time: 7838,;predicted: 1, prediction_time: 62, train_time: 7841,;predicted: 0, prediction_time: 74, train_time: 7839,;predicted: 1, prediction_time: 77, train_time: 7841,;predicted: 0, prediction_time: 69, train_time: 7833,;predicted: 1, prediction_time: 58, train_time: 7833,;predicted: 0, prediction_time: 65, train_time: 7832,;predicted: 1, prediction_time: 75, train_time: 7837,;predicted: 0, prediction_time: 58, train_time: 7849,;predicted: 1, prediction_time: 57, train_time: 7844,;predicted: 0, prediction_time: 62, train_time: 7826,;predicted: 1, prediction_time: 71, train_time: 7832,;predicted: 0, prediction_time: 67, train_time: 7837,;predicted: 1, prediction_time: 64, train_time: 7839,;predicted: 0, prediction_time: 58, train_time: 7837,;predicted: 1, prediction_time: 67, train_time: 7840,;predicted: 0, prediction_time: 66, train_time: 7849,;predicted: 1, prediction_time: 59, train_time: 7657,;predicted: 0, prediction_time: 64, train_time: 7650,;predicted: 1, prediction_time: 66, train_time: 7649,;predicted: 0, prediction_time: 68, train_time: 7650,;predicted: 1, prediction_time: 60, train_time: 7647,;predicted: 0, prediction_time: 57, train_time: 7651,;predicted: 1, prediction_time: 65, train_time: 7656,;predicted: 0, prediction_time: 57, train_time: 7647,;predicted: 1, prediction_time: 59, train_time: 7649,;predicted: 0, prediction_time: 80, train_time: 7653,;predicted: 1, prediction_time: 64, train_time: 7652,;predicted: 0, prediction_time: 61, train_time: 7647,;predicted: 1, prediction_time: 61, train_time: 7653,;predicted: 0, prediction_time: 66, train_time: 7657,;predicted: 1, prediction_time: 65, train_time: 7661,;predicted: 0, prediction_time: 86, train_time: 7653,;predicted: 1, prediction_time: 57, train_time: 7652,;predicted: 0, prediction_time: 56, train_time: 7646,;predicted: 1, prediction_time: 64, train_time: 7674,;predicted: 0, prediction_time: 69, train_time: 7652,;predicted: 1, prediction_time: 67, train_time: 7657,;predicted: 0, prediction_time: 71, train_time: 7648,;predicted: 1, prediction_time: 69, train_time: 7648,;predicted: 0, prediction_time: 61, train_time: 7647,;predicted: 1, prediction_time: 59, train_time: 7648,;predicted: 0, prediction_time: 59, train_time: 7646,;predicted: 1, prediction_time: 64, train_time: 7647,;predicted: 0, prediction_time: 46, train_time: 7614,;predicted: 1, prediction_time: 65, train_time: 7651,;predicted: 0, prediction_time: 62, train_time: 7647,;predicted: 1, prediction_time: 61, train_time: 7658,;predicted: 0, prediction_time: 66, train_time: 7653,;predicted: 1, prediction_time: 63, train_time: 7639,;predicted: 0, prediction_time: 59, train_time: 7649,;predicted: 1, prediction_time: 65, train_time: 7650,;predicted: 0, prediction_time: 57, train_time: 7658,;predicted: 1, prediction_time: 59, train_time: 7648,;predicted: 0, prediction_time: 68, train_time: 7656,;predicted: 1, prediction_time: 71, train_time: 7648,;predicted: 0, prediction_time: 60, train_time: 7648,;predicted: 1, prediction_time: 83, train_time: 7659,;predicted: 0, prediction_time: 50, train_time: 7626,;predicted: 1, prediction_time: 66, train_time: 7642,;predicted: 0, prediction_time: 56, train_time: 7650,;predicted: 1, prediction_time: 62, train_time: 7652,;predicted: 0, prediction_time: 61, train_time: 7650,;predicted: 1, prediction_time: 69, train_time: 7654,;predicted: 0, prediction_time: 82, train_time: 7653,;predicted: 1, prediction_time: 63, train_time: 7650,;predicted: 0, prediction_time: 62, train_time: 7652,;predicted: 1, prediction_time: 65, train_time: 7649,;predicted: 0, prediction_time: 64, train_time: 7651,;predicted: 1, prediction_time: 59, train_time: 7658,;predicted: 0, prediction_time: 62, train_time: 7646,;predicted: 1, prediction_time: 63, train_time: 7652,;predicted: 0, prediction_time: 57, train_time: 7654,;predicted: 1, prediction_time: 62, train_time: 7672,;predicted: 0, prediction_time: 65, train_time: 7656,;predicted: 1, prediction_time: 57, train_time: 7649,;predicted: 0, prediction_time: 59, train_time: 7664,;\n",
      "\n",
      "accuracy after 1200: 0.999\n",
      "predicted: 1, prediction_time: 80, train_time: 7648,;predicted: 0, prediction_time: 63, train_time: 7667,;predicted: 1, prediction_time: 93, train_time: 7626,;predicted: 0, prediction_time: 66, train_time: 7625,;predicted: 1, prediction_time: 64, train_time: 7633,;predicted: 0, prediction_time: 84, train_time: 7693,;predicted: 1, prediction_time: 65, train_time: 7680,;predicted: 0, prediction_time: 60, train_time: 7709,;predicted: 1, prediction_time: 64, train_time: 7683,;predicted: 0, prediction_time: 68, train_time: 7692,;predicted: 1, prediction_time: 58, train_time: 7718,;predicted: 0, prediction_time: 59, train_time: 7724,;predicted: 1, prediction_time: 62, train_time: 7728,;predicted: 0, prediction_time: 64, train_time: 7721,;predicted: 1, prediction_time: 71, train_time: 7719,;predicted: 0, prediction_time: 58, train_time: 7717,;predicted: 1, prediction_time: 68, train_time: 7728,;predicted: 0, prediction_time: 62, train_time: 7732,;predicted: 1, prediction_time: 58, train_time: 7718,;predicted: 0, prediction_time: 69, train_time: 7716,;predicted: 1, prediction_time: 60, train_time: 7845,;predicted: 0, prediction_time: 62, train_time: 7824,;predicted: 1, prediction_time: 57, train_time: 7833,;predicted: 0, prediction_time: 70, train_time: 7827,;predicted: 1, prediction_time: 60, train_time: 7830,;predicted: 0, prediction_time: 73, train_time: 7828,;predicted: 1, prediction_time: 58, train_time: 7824,;predicted: 0, prediction_time: 77, train_time: 7826,;predicted: 1, prediction_time: 60, train_time: 7831,;predicted: 0, prediction_time: 67, train_time: 7829,;predicted: 1, prediction_time: 82, train_time: 7837,;predicted: 0, prediction_time: 61, train_time: 7835,;predicted: 1, prediction_time: 75, train_time: 7837,;predicted: 0, prediction_time: 60, train_time: 7824,;predicted: 1, prediction_time: 76, train_time: 7833,;predicted: 0, prediction_time: 61, train_time: 7844,;predicted: 1, prediction_time: 67, train_time: 7834,;predicted: 0, prediction_time: 58, train_time: 7832,;predicted: 1, prediction_time: 68, train_time: 7835,;predicted: 0, prediction_time: 65, train_time: 7843,;predicted: 1, prediction_time: 59, train_time: 7651,;predicted: 0, prediction_time: 64, train_time: 7636,;predicted: 1, prediction_time: 60, train_time: 7635,;predicted: 0, prediction_time: 69, train_time: 7643,;predicted: 1, prediction_time: 61, train_time: 7636,;predicted: 0, prediction_time: 57, train_time: 7643,;predicted: 1, prediction_time: 70, train_time: 7645,;predicted: 0, prediction_time: 58, train_time: 7641,;predicted: 1, prediction_time: 64, train_time: 7655,;predicted: 0, prediction_time: 78, train_time: 7646,;predicted: 1, prediction_time: 59, train_time: 7640,;predicted: 0, prediction_time: 64, train_time: 7643,;predicted: 1, prediction_time: 68, train_time: 7663,;predicted: 0, prediction_time: 68, train_time: 7642,;predicted: 1, prediction_time: 67, train_time: 7641,;predicted: 0, prediction_time: 68, train_time: 7649,;predicted: 1, prediction_time: 59, train_time: 7640,;predicted: 0, prediction_time: 62, train_time: 7635,;predicted: 1, prediction_time: 65, train_time: 7655,;predicted: 0, prediction_time: 65, train_time: 7645,;predicted: 1, prediction_time: 65, train_time: 7647,;predicted: 0, prediction_time: 60, train_time: 7653,;predicted: 1, prediction_time: 69, train_time: 7646,;predicted: 0, prediction_time: 64, train_time: 7650,;predicted: 1, prediction_time: 60, train_time: 7659,;predicted: 0, prediction_time: 65, train_time: 7644,;predicted: 1, prediction_time: 72, train_time: 7654,;predicted: 0, prediction_time: 48, train_time: 7618,;predicted: 1, prediction_time: 67, train_time: 7652,;predicted: 0, prediction_time: 64, train_time: 7633,;predicted: 1, prediction_time: 66, train_time: 7649,;predicted: 0, prediction_time: 64, train_time: 7646,;predicted: 1, prediction_time: 69, train_time: 7633,;predicted: 0, prediction_time: 60, train_time: 7639,;predicted: 1, prediction_time: 70, train_time: 7637,;predicted: 0, prediction_time: 59, train_time: 7643,;predicted: 1, prediction_time: 66, train_time: 7648,;predicted: 0, prediction_time: 81, train_time: 7646,;predicted: 1, prediction_time: 68, train_time: 7645,;predicted: 0, prediction_time: 58, train_time: 7646,;predicted: 1, prediction_time: 65, train_time: 7644,;predicted: 0, prediction_time: 51, train_time: 7621,;predicted: 1, prediction_time: 63, train_time: 7637,;predicted: 0, prediction_time: 58, train_time: 7657,;predicted: 1, prediction_time: 82, train_time: 7645,;predicted: 0, prediction_time: 65, train_time: 7641,;predicted: 1, prediction_time: 62, train_time: 7654,;predicted: 0, prediction_time: 76, train_time: 7644,;predicted: 1, prediction_time: 66, train_time: 7643,;predicted: 0, prediction_time: 57, train_time: 7651,;predicted: 1, prediction_time: 61, train_time: 7639,;predicted: 0, prediction_time: 64, train_time: 7643,;predicted: 1, prediction_time: 67, train_time: 7652,;predicted: 0, prediction_time: 61, train_time: 7655,;predicted: 1, prediction_time: 66, train_time: 7642,;predicted: 0, prediction_time: 58, train_time: 7646,;predicted: 1, prediction_time: 63, train_time: 7666,;predicted: 0, prediction_time: 67, train_time: 7644,;predicted: 1, prediction_time: 58, train_time: 7638,;predicted: 0, prediction_time: 65, train_time: 7649,;\n",
      "\n",
      "accuracy after 1300: 0.999\n",
      "accuracy: 0.9992307692307693\n"
     ]
    }
   ],
   "source": [
    "import serial\n",
    "from river.datasets import synth\n",
    "dataset = synth.Sine(classification_function = 2, seed = 112,balance_classes = True, has_noise = False)\n",
    "def stringBuilderSine(instance):\n",
    "    return str(instance[0][0]) + ',' + str(instance[0][1]) + ',' + str(instance[1])\n",
    "\n",
    "serialPort = serial.Serial(port=\"COM12\", baudrate=500000, bytesize=8, timeout= None, rtscts=False)\n",
    "\n",
    "# Configuration\n",
    "step = 100\n",
    "featureCount = 2\n",
    "config = 'partitionDim: ' + str(step) +',featureCount: ' + str(featureCount) +','\n",
    "\n",
    "res = \"\"\n",
    "while 'start sending data' not in res: \n",
    "    res = serialPort.readline().decode()\n",
    "    print(res)\n",
    "    if 'waiting for configuration msg' in res:\n",
    "        serialPort.write(config.encode())\n",
    "\n",
    "\n",
    "# Start sending data\n",
    "y_true = []\n",
    "predictions = []\n",
    "predTime = []\n",
    "trainTime = []\n",
    "counter = 0\n",
    "try:\n",
    "    for partition in range(0, 1300, step):\n",
    "        data = \"\"\n",
    "        for instance in dataset.take(step):\n",
    "            y_true.append(instance[1])\n",
    "            data += stringBuilderSine(instance) + ',;'\n",
    "        #print(data)\n",
    "        serialPort.write(data.encode())\n",
    "\n",
    "        res = serialPort.readline().decode()\n",
    "        print(res)\n",
    "        samples = res.split(';')\n",
    "        for x in range(0,len(samples)-1):\n",
    "            sample = samples[x]\n",
    "            for out in sample.split(','):\n",
    "                if 'predicted:' in out:\n",
    "                    predict = int(out.split(':')[1])\n",
    "                    #print(predict)\n",
    "                    predictions.append(predict)   \n",
    "                    if (predict == y_true[partition+x]):\n",
    "                        counter += 1\n",
    "                if 'prediction_time:' in out:\n",
    "                    predTime.append(int(out.split(':')[1]))\n",
    "                if 'train_time:' in out:\n",
    "                    trainTime.append(int(out.split(':')[1]))\n",
    "\n",
    "\n",
    "        print('accuracy after '+ str(partition+step) + ': '+ \"{:.3f}\".format(counter/(partition+step)), end='')\n",
    "        #print(', avg pred time: ' + str(int(sum(predTime)/len(predTime))) + 'μs, avg train time: ' + str(int(sum(trainTime)/len(trainTime))) + 'μs')\n",
    "        print()\n",
    "    print('accuracy: ' + str(counter/len(predictions)))\n",
    "    #serial.Serial.close(serialPort)\n",
    "except: \n",
    "    serial.Serial.close(serialPort)\n",
    "finally:\n",
    "    serial.Serial.close(serialPort)\n"
   ]
  },
  {
   "attachments": {},
   "cell_type": "markdown",
   "metadata": {},
   "source": [
    "### Analize the results"
   ]
  },
  {
   "cell_type": "code",
   "execution_count": 11,
   "metadata": {},
   "outputs": [
    {
     "name": "stdout",
     "output_type": "stream",
     "text": [
      "[0, 0, 1, 0, 1, 0, 1, 0, 1, 0, 1, 0, 1, 0, 1, 0, 1, 0, 1, 0, 1, 0, 1, 0, 1, 0, 1, 0, 1, 0, 1, 0, 1, 0, 1, 0, 1, 0, 1, 0, 1, 0, 1, 0, 1, 0, 1, 0, 1, 0, 1, 0, 1, 0, 1, 0, 1, 0, 1, 0, 1, 0, 1, 0, 1, 0, 1, 0, 1, 0, 1, 0, 1, 0, 1, 0, 1, 0, 1, 0, 1, 0, 1, 0, 1, 0, 1, 0, 1, 0, 1, 0, 1, 0, 1, 0, 1, 0, 1, 0, 1, 0, 1, 0, 1, 0, 1, 0, 1, 0, 1, 0, 1, 0, 1, 0, 1, 0, 1, 0, 1, 0, 1, 0, 1, 0, 1, 0, 1, 0, 1, 0, 1, 0, 1, 0, 1, 0, 1, 0, 1, 0, 1, 0, 1, 0, 1, 0, 1, 0, 1, 0, 1, 0, 1, 0, 1, 0, 1, 0, 1, 0, 1, 0, 1, 0, 1, 0, 1, 0, 1, 0, 1, 0, 1, 0, 1, 0, 1, 0, 1, 0, 1, 0, 1, 0, 1, 0, 1, 0, 1, 0, 1, 0, 1, 0, 1, 0, 1, 0, 1, 0, 1, 0, 1, 0, 1, 0, 1, 0, 1, 0, 1, 0, 1, 0, 1, 0, 1, 0, 1, 0, 1, 0, 1, 0, 1, 0, 1, 0, 1, 0, 1, 0, 1, 0, 1, 0, 1, 0, 1, 0, 1, 0, 1, 0, 1, 0, 1, 0, 1, 0, 1, 0, 1, 0, 1, 0, 1, 0, 1, 0, 1, 0, 1, 0, 1, 0, 1, 0, 1, 0, 1, 0, 1, 0, 1, 0, 1, 0, 1, 0, 1, 0, 1, 0, 1, 0, 1, 0, 1, 0, 1, 0, 1, 0, 1, 0, 1, 0, 1, 0, 1, 0, 1, 0, 1, 0, 1, 0, 1, 0, 1, 0, 1, 0, 1, 0, 1, 0, 1, 0, 1, 0, 1, 0, 1, 0, 1, 0, 1, 0, 1, 0, 1, 0, 1, 0, 1, 0, 1, 0, 1, 0, 1, 0, 1, 0, 1, 0, 1, 0, 1, 0, 1, 0, 1, 0, 1, 0, 1, 0, 1, 0, 1, 0, 1, 0, 1, 0, 1, 0, 1, 0, 1, 0, 1, 0, 1, 0, 1, 0, 1, 0, 1, 0, 1, 0, 1, 0, 1, 0, 1, 0, 1, 0, 1, 0, 1, 0, 1, 0, 1, 0, 1, 0, 1, 0, 1, 0, 1, 0, 1, 0, 1, 0, 1, 0, 1, 0, 1, 0, 1, 0, 1, 0, 1, 0, 1, 0, 1, 0, 1, 0, 1, 0, 1, 0, 1, 0, 1, 0, 1, 0, 1, 0, 1, 0, 1, 0, 1, 0, 1, 0, 1, 0, 1, 0, 1, 0, 1, 0, 1, 0, 1, 0, 1, 0, 1, 0, 1, 0, 1, 0, 1, 0, 1, 0, 1, 0, 1, 0, 1, 0, 1, 0, 1, 0, 1, 0, 1, 0, 1, 0, 1, 0, 1, 0, 1, 0, 1, 0, 1, 0, 1, 0, 1, 0, 1, 0, 1, 0, 1, 0, 1, 0, 1, 0, 1, 0, 1, 0, 1, 0, 1, 0, 1, 0, 1, 0, 1, 0, 1, 0, 1, 0, 1, 0, 1, 0, 1, 0, 1, 0, 1, 0, 1, 0, 1, 0, 1, 0, 1, 0, 1, 0, 1, 0, 1, 0, 1, 0, 1, 0, 1, 0, 1, 0, 1, 0, 1, 0, 1, 0, 1, 0, 1, 0, 1, 0, 1, 0, 1, 0, 1, 0, 1, 0, 1, 0, 1, 0, 1, 0, 1, 0, 1, 0, 1, 0, 1, 0, 1, 0, 1, 0, 1, 0, 1, 0, 1, 0, 1, 0, 1, 0, 1, 0, 1, 0, 1, 0, 1, 0, 1, 0, 1, 0, 1, 0, 1, 0, 1, 0, 1, 0, 1, 0, 1, 0, 1, 0, 1, 0, 1, 0, 1, 0, 1, 0, 1, 0, 1, 0, 1, 0, 1, 0, 1, 0, 1, 0, 1, 0, 1, 0, 1, 0, 1, 0, 1, 0, 1, 0, 1, 0, 1, 0, 1, 0, 1, 0, 1, 0, 1, 0, 1, 0, 1, 0, 1, 0, 1, 0, 1, 0, 1, 0, 1, 0, 1, 0, 1, 0, 1, 0, 1, 0, 1, 0, 1, 0, 1, 0, 1, 0, 1, 0, 1, 0, 1, 0, 1, 0, 1, 0, 1, 0, 1, 0, 1, 0, 1, 0, 1, 0, 1, 0, 1, 0, 1, 0, 1, 0, 1, 0, 1, 0, 1, 0, 1, 0, 1, 0, 1, 0, 1, 0, 1, 0, 1, 0, 1, 0, 1, 0, 1, 0, 1, 0, 1, 0, 1, 0, 1, 0, 1, 0, 1, 0, 1, 0, 1, 0, 1, 0, 1, 0, 1, 0, 1, 0, 1, 0, 1, 0, 1, 0, 1, 0, 1, 0, 1, 0, 1, 0, 1, 0, 1, 0, 1, 0, 1, 0, 1, 0, 1, 0, 1, 0, 1, 0, 1, 0, 1, 0, 1, 0, 1, 0, 1, 0, 1, 0, 1, 0, 1, 0, 1, 0, 1, 0, 1, 0, 1, 0, 1, 0, 1, 0, 1, 0, 1, 0, 1, 0, 1, 0, 1, 0, 1, 0, 1, 0, 1, 0, 1, 0, 1, 0, 1, 0, 1, 0, 1, 0, 1, 0, 1, 0, 1, 0, 1, 0, 1, 0, 1, 0, 1, 0, 1, 0, 1, 0, 1, 0, 1, 0, 1, 0, 1, 0, 1, 0, 1, 0, 1, 0, 1, 0, 1, 0, 1, 0, 1, 0, 1, 0, 1, 0, 1, 0, 1, 0, 1, 0, 1, 0, 1, 0, 1, 0, 1, 0, 1, 0, 1, 0, 1, 0, 1, 0, 1, 0, 1, 0, 1, 0, 1, 0, 1, 0, 1, 0, 1, 0, 1, 0, 1, 0, 1, 0, 1, 0, 1, 0, 1, 0, 1, 0, 1, 0, 1, 0, 1, 0, 1, 0, 1, 0, 1, 0, 1, 0, 1, 0, 1, 0, 1, 0, 1, 0, 1, 0, 1, 0, 1, 0, 1, 0, 1, 0, 1, 0, 1, 0, 1, 0, 1, 0, 1, 0, 1, 0, 1, 0, 1, 0, 1, 0, 1, 0, 1, 0, 1, 0, 1, 0, 1, 0, 1, 0, 1, 0, 1, 0, 1, 0, 1, 0, 1, 0, 1, 0, 1, 0, 1, 0, 1, 0, 1, 0, 1, 0, 1, 0, 1, 0, 1, 0, 1, 0, 1, 0, 1, 0, 1, 0, 1, 0, 1, 0, 1, 0, 1, 0, 1, 0, 1, 0, 1, 0, 1, 0, 1, 0, 1, 0, 1, 0, 1, 0, 1, 0, 1, 0, 1, 0, 1, 0, 1, 0, 1, 0, 1, 0, 1, 0, 1, 0, 1, 0, 1, 0, 1, 0, 1, 0, 1, 0, 1, 0, 1, 0, 1, 0, 1, 0, 1, 0, 1, 0, 1, 0, 1, 0, 1, 0, 1, 0, 1, 0, 1, 0, 1, 0, 1, 0, 1, 0, 1, 0, 1, 0, 1, 0, 1, 0, 1, 0, 1, 0, 1, 0, 1, 0, 1, 0, 1, 0, 1, 0, 1, 0, 1, 0, 1, 0, 1, 0, 1, 0, 1, 0, 1, 0, 1, 0, 1, 0, 1, 0, 1, 0, 1, 0, 1, 0, 1, 0, 1, 0, 1, 0, 1, 0, 1, 0, 1, 0, 1, 0, 1, 0, 1, 0, 1, 0, 1, 0, 1, 0, 1, 0, 1, 0, 1, 0, 1, 0, 1, 0, 1, 0, 1, 0, 1, 0, 1, 0, 1, 0, 1, 0, 1, 0, 1, 0, 1, 0, 1, 0, 1, 0, 1, 0, 1, 0, 1, 0, 1, 0, 1, 0, 1, 0, 1, 0, 1, 0, 1, 0, 1, 0, 1, 0, 1, 0, 1, 0, 1, 0, 1, 0, 1, 0, 1, 0, 1, 0, 1, 0, 1, 0, 1, 0, 1, 0, 1, 0]\n"
     ]
    },
    {
     "data": {
      "image/png": "[encoded data removed]",
      "text/plain": [
       "<Figure size 640x480 with 2 Axes>"
      ]
     },
     "metadata": {},
     "output_type": "display_data"
    },
    {
     "name": "stdout",
     "output_type": "stream",
     "text": [
      "              precision    recall  f1-score   support\n",
      "\n",
      "          UP       1.00      1.00      1.00       644\n",
      "        Down       1.00      1.00      1.00       644\n",
      "\n",
      "    accuracy                           1.00      1288\n",
      "   macro avg       1.00      1.00      1.00      1288\n",
      "weighted avg       1.00      1.00      1.00      1288\n",
      "\n",
      "accuracy after 1300: 0.999, avg pred time: 63μs, avg train time: 7642μs\n",
      "\n"
     ]
    }
   ],
   "source": [
    "from sklearn.metrics import confusion_matrix\n",
    "import matplotlib.pyplot as plt\n",
    "from sklearn import metrics\n",
    "\n",
    "start = 12\n",
    "end = len(predictions)\n",
    "\n",
    "yy_true = y_true[start:end]\n",
    "y_pred = predictions[start:end]\n",
    "#print(df['class'].values.tolist()[start:end])\n",
    "#print(yy_true)\n",
    "print(predictions)\n",
    "confusion_matrix = confusion_matrix(yy_true, y_pred)\n",
    "\n",
    "cm_display = metrics.ConfusionMatrixDisplay(confusion_matrix = confusion_matrix, display_labels = ['UP', 'Down'])\n",
    "\n",
    "cm_display.plot()\n",
    "plt.show()\n",
    "print(metrics.classification_report(yy_true, y_pred, target_names = ['UP', 'Down']))\n",
    "print('accuracy after '+ str(partition+step) + ': '+ \"{:.3f}\".format(counter/(partition+step)), end='')\n",
    "print(', avg pred time: ' + str(int(sum(predTime)/len(predTime))) + 'μs, avg train time: ' + str(int(sum(trainTime)/len(trainTime))) + 'μs')\n",
    "print()"
   ]
  },
  {
   "cell_type": "markdown",
   "metadata": {},
   "source": [
    "### Start streaming the dataset over serial using the Random Tree dataset"
   ]
  },
  {
   "cell_type": "code",
   "execution_count": 12,
   "metadata": {},
   "outputs": [
    {
     "name": "stdout",
     "output_type": "stream",
     "text": [
      "({'x_num_0': 0.6394267984578837, 'x_num_1': 0.025010755222666936, 'x_cat_0': 2, 'x_cat_1': 1, 'x_cat_2': 1, 'x_cat_3': 1, 'x_cat_4': 0}, 0)\n",
      "0.6394267984578837,0.6394267984578837,0\n",
      "({'x_num_0': 0.6766994874229113, 'x_num_1': 0.8921795677048454, 'x_cat_0': 0, 'x_cat_1': 4, 'x_cat_2': 3, 'x_cat_3': 0, 'x_cat_4': 0}, 0)\n",
      "0.6766994874229113,0.6766994874229113,0\n",
      "({'x_num_0': 0.09369523986159245, 'x_num_1': 0.2326608933907396, 'x_cat_0': 4, 'x_cat_1': 0, 'x_cat_2': 4, 'x_cat_3': 1, 'x_cat_4': 4}, 0)\n",
      "0.09369523986159245,0.09369523986159245,0\n",
      "({'x_num_0': 0.41951982096165874, 'x_num_1': 0.4492090462838536, 'x_cat_0': 2, 'x_cat_1': 0, 'x_cat_2': 1, 'x_cat_3': 3, 'x_cat_4': 2}, 0)\n",
      "0.41951982096165874,0.41951982096165874,0\n",
      "({'x_num_0': 0.27787134167164185, 'x_num_1': 0.2153137621075888, 'x_cat_0': 2, 'x_cat_1': 0, 'x_cat_2': 0, 'x_cat_3': 3, 'x_cat_4': 0}, 0)\n",
      "0.27787134167164185,0.27787134167164185,0\n",
      "({'x_num_0': 0.3589793804846284, 'x_num_1': 0.3439557224789711, 'x_cat_0': 2, 'x_cat_1': 0, 'x_cat_2': 3, 'x_cat_3': 4, 'x_cat_4': 0}, 1)\n",
      "0.3589793804846284,0.3589793804846284,1\n",
      "({'x_num_0': 0.9731157639793706, 'x_num_1': 0.3785343772083535, 'x_cat_0': 4, 'x_cat_1': 2, 'x_cat_2': 4, 'x_cat_3': 2, 'x_cat_4': 4}, 0)\n",
      "0.9731157639793706,0.9731157639793706,0\n",
      "({'x_num_0': 0.1922885902566599, 'x_num_1': 0.06955514882374092, 'x_cat_0': 1, 'x_cat_1': 2, 'x_cat_2': 0, 'x_cat_3': 1, 'x_cat_4': 0}, 0)\n",
      "0.1922885902566599,0.1922885902566599,0\n",
      "({'x_num_0': 0.38012622503916615, 'x_num_1': 0.4534103023684355, 'x_cat_0': 2, 'x_cat_1': 1, 'x_cat_2': 2, 'x_cat_3': 2, 'x_cat_4': 1}, 0)\n",
      "0.38012622503916615,0.38012622503916615,0\n",
      "({'x_num_0': 0.6701751743776934, 'x_num_1': 0.7018203134585513, 'x_cat_0': 0, 'x_cat_1': 4, 'x_cat_2': 1, 'x_cat_3': 4, 'x_cat_4': 1}, 0)\n",
      "0.6701751743776934,0.6701751743776934,0\n"
     ]
    }
   ],
   "source": [
    "import serial\n",
    "from river.datasets import synth\n",
    "dataset = synth.RandomTree(seed_tree=42, seed_sample=42, n_classes=2,n_num_features=2, max_tree_depth=2)\n",
    "def stringBuilderRandom(instance):\n",
    "    return str(instance[0]['x_num_0']) + ',' + str(instance[0]['x_num_0']) + ',' + str(instance[1])\n",
    "for instance in dataset.take(10):\n",
    "    print(instance)\n",
    "    print(stringBuilderRandom(instance))\n"
   ]
  },
  {
   "cell_type": "code",
   "execution_count": 14,
   "metadata": {},
   "outputs": [
    {
     "name": "stdout",
     "output_type": "stream",
     "text": [
      "Serial started\n",
      "\n",
      "waiting for configuration msg\n",
      "\n",
      "waiting for configuration msg\n",
      "\n",
      "configuration msg received\n",
      "\n",
      "partitionDim: 50, featureCount: 2\n",
      "\n",
      "start sending data\n",
      "\n",
      "accuracy after 50: 0.220\n",
      "accuracy after 100: 0.210\n",
      "accuracy after 150: 0.207\n",
      "accuracy after 200: 0.205\n",
      "accuracy after 250: 0.204\n",
      "accuracy after 300: 0.203\n",
      "accuracy after 350: 0.203\n",
      "accuracy after 400: 0.203\n",
      "accuracy after 450: 0.202\n",
      "accuracy after 500: 0.202\n",
      "accuracy after 550: 0.202\n",
      "accuracy after 600: 0.202\n",
      "accuracy after 650: 0.202\n",
      "accuracy after 700: 0.201\n",
      "accuracy after 750: 0.201\n",
      "accuracy after 800: 0.201\n",
      "accuracy after 850: 0.201\n",
      "accuracy after 900: 0.201\n",
      "accuracy after 950: 0.201\n",
      "accuracy after 1000: 0.201\n",
      "accuracy after 1050: 0.201\n",
      "accuracy after 1100: 0.201\n",
      "accuracy after 1150: 0.201\n",
      "accuracy after 1200: 0.201\n",
      "accuracy after 1250: 0.201\n",
      "accuracy after 1300: 0.201\n",
      "accuracy: 0.20076923076923076\n"
     ]
    }
   ],
   "source": [
    "import serial\n",
    "from river.datasets import synth\n",
    "dataset = synth.RandomTree(seed_tree=42, seed_sample=42, n_classes=2,n_num_features=2, max_tree_depth=2)\n",
    "def stringBuilderRandom(instance):\n",
    "    return str(instance[0]['x_num_0']) + ',' + str(instance[0]['x_num_0']) + ',' + str(instance[1])\n",
    "\n",
    "serialPort = serial.Serial(port=\"COM12\", baudrate=500000, bytesize=8, timeout= None, rtscts=False)\n",
    "\n",
    "# Configuration\n",
    "step = 50\n",
    "featureCount = 2\n",
    "config = 'partitionDim: ' + str(step) +',featureCount: ' + str(featureCount) +','\n",
    "\n",
    "res = \"\"\n",
    "while 'start sending data' not in res: \n",
    "    res = serialPort.readline().decode('utf-8', errors='ignore')\n",
    "    print(res)\n",
    "    if 'waiting for configuration msg' in res:\n",
    "        serialPort.write(config.encode())\n",
    "\n",
    "\n",
    "# Start sending data\n",
    "y_true = []\n",
    "predictions = []\n",
    "predTime = []\n",
    "trainTime = []\n",
    "counter = 0\n",
    "\n",
    "for partition in range(0, 1300, step):\n",
    "    data = \"\"\n",
    "    for instance in dataset.take(step):\n",
    "        y_true.append(instance[1])\n",
    "        data += stringBuilderRandom(instance) + ',;'\n",
    "    #print(data)\n",
    "    serialPort.write(data.encode())\n",
    "\n",
    "    res = serialPort.readline().decode()\n",
    "    #print(res)\n",
    "    samples = res.split(';')\n",
    "    for x in range(0,len(samples)-1):\n",
    "        sample = samples[x]\n",
    "        for out in sample.split(','):\n",
    "            if 'predicted:' in out:\n",
    "                predict = int(out.split(':')[1])\n",
    "                #print(predict)\n",
    "                predictions.append(predict)   \n",
    "                if (predict == y_true[partition+x]):\n",
    "                    counter += 1\n",
    "            if 'prediction_time:' in out:\n",
    "                predTime.append(int(out.split(':')[1]))\n",
    "            if 'train_time:' in out:\n",
    "                trainTime.append(int(out.split(':')[1]))\n",
    "\n",
    "\n",
    "    print('accuracy after '+ str(partition+step) + ': '+ \"{:.3f}\".format(counter/(partition+step)), end='')\n",
    "    #print(', avg pred time: ' + str(int(sum(predTime)/len(predTime))) + 'μs, avg train time: ' + str(int(sum(trainTime)/len(trainTime))) + 'μs')\n",
    "    print()\n",
    "print('accuracy: ' + str(counter/len(predictions)))\n",
    "#serial.Serial.close(serialPort)\n"
   ]
  }
 ],
 "metadata": {
  "kernelspec": {
   "display_name": "Python 3.11.0 64-bit",
   "language": "python",
   "name": "python3"
  },
  "language_info": {
   "codemirror_mode": {
    "name": "ipython",
    "version": 3
   },
   "file_extension": ".py",
   "mimetype": "text/x-python",
   "name": "python",
   "nbconvert_exporter": "python",
   "pygments_lexer": "ipython3",
   "version": "3.11.0"
  },
  "orig_nbformat": 4,
  "vscode": {
   "interpreter": {
    "hash": "961ba29095b76c930f4fc5dd59aa7edba0948bb17ac8528d55d140f484815b9d"
   }
  }
 },
 "nbformat": 4,
 "nbformat_minor": 2
}
