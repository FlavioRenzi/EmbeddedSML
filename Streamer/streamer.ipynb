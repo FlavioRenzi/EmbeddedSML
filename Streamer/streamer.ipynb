{
 "cells": [
  {
   "cell_type": "code",
   "execution_count": 1,
   "metadata": {},
   "outputs": [
    {
     "name": "stdout",
     "output_type": "stream",
     "text": [
      "407808\n"
     ]
    }
   ],
   "source": [
    "from scipy.io import arff\n",
    "import pandas as pd\n",
    "\n",
    "data = arff.loadarff('elecNormNew.arff')\n",
    "df = pd.DataFrame(data[0])\n",
    "print(df.size)\n",
    "\n",
    "df.head(20)\n",
    "\n",
    "def convert(x):\n",
    "    if x.decode() == 'UP':\n",
    "        return 1\n",
    "    else:\n",
    "        return 0\n",
    "\n",
    "y_true = list(map(convert,df['class'].values.tolist()))"
   ]
  },
  {
   "cell_type": "code",
   "execution_count": 2,
   "metadata": {},
   "outputs": [
    {
     "name": "stdout",
     "output_type": "stream",
     "text": [
      "0.0\n",
      "0.056443,0.439155,0.003467,0.422915,0.414912,b'UP'\n",
      "0.051699,0.415055,0.003467,0.422915,0.414912,b'UP'\n"
     ]
    }
   ],
   "source": [
    "print(str(df['date'][0]))\n",
    "\n",
    "def stringBuilder(df,x):\n",
    "    # Build a string from the data in the dataframe\n",
    "    string = str(df['nswprice'][x]) + ',' + str(df['nswdemand'][x]) + ',' + str(df['vicprice'][x]) + ',' + str(df['vicdemand'][x]) + ',' + str(df['transfer'][x]) + ',' + str(df['class'][x])\n",
    "    return string\n",
    "print(stringBuilder(df,0))\n",
    "print(stringBuilder(df,1))"
   ]
  },
  {
   "cell_type": "code",
   "execution_count": null,
   "metadata": {},
   "outputs": [],
   "source": [
    "%pip install pyserial"
   ]
  },
  {
   "cell_type": "code",
   "execution_count": 34,
   "metadata": {},
   "outputs": [
    {
     "name": "stdout",
     "output_type": "stream",
     "text": [
      "Serial started\n",
      "\n",
      "waiting for configuration msg\n",
      "\n",
      "configuration msg received\n",
      "\n",
      "partitionDim: 3\n",
      "\n",
      "start sending data\n",
      "\n",
      "0.056443,0.439155,0.003467,0.422915,0.414912,b'UP',;0.051699,0.415055,0.003467,0.422915,0.414912,b'UP',;0.051489,0.385004,0.003467,0.422915,0.414912,b'UP',;\n",
      "predicted: 0,predicted: 0,predicted: 0,predicted: 0,0;\n",
      "\n",
      "accuracy after 2: 0.0\n",
      "0.045485,0.314639,0.003467,0.422915,0.414912,b'UP',;0.042482,0.251116,0.003467,0.422915,0.414912,b'DOWN',;0.041161,0.207528,0.003467,0.422915,0.414912,b'DOWN',;\n",
      "predicted: 0,predicted: 0,predicted: 0,predicted: 0,0;\n",
      "\n",
      "accuracy after 5: 0.0\n",
      "0.041161,0.171824,0.003467,0.422915,0.414912,b'DOWN',;0.041161,0.152782,0.003467,0.422915,0.414912,b'DOWN',;0.041161,0.13493,0.003467,0.422915,0.414912,b'DOWN',;\n",
      "predicted: 0,predicted: 0,predicted: 0,predicted: 0,0;\n",
      "\n",
      "accuracy after 8: 0.0\n",
      "0.041161,0.140583,0.003467,0.422915,0.414912,b'DOWN',;0.044374,0.168997,0.003467,0.422915,0.414912,b'UP',;0.049868,0.212437,0.003467,0.422915,0.414912,b'UP',;\n",
      "predicted: 0,predicted: 0,predicted: 0,predicted: 0,0;\n",
      "\n",
      "accuracy after 11: 0.0\n",
      "0.051489,0.298721,0.003467,0.422915,0.414912,b'UP',;0.042482,0.39036,0.003467,0.422915,0.414912,b'DOWN',;0.040861,0.402261,0.003467,0.422915,0.414912,b'DOWN',;\n",
      "predicted: 0,predicted: 0,predicted: 0,predicted: 0,0;\n",
      "\n",
      "accuracy after 14: 0.0\n",
      "0.040711,0.462214,0.003467,0.422915,0.414912,b'DOWN',;0.040861,0.488248,0.003467,0.422915,0.414912,b'DOWN',;0.040711,0.493306,0.003467,0.422915,0.414912,b'DOWN',;\n",
      "predicted: 0,predicted: 0,predicted: 0,predicted: 0,0;\n",
      "\n",
      "accuracy after 17: 0.0\n",
      "0.041041,0.53258,0.003467,0.422915,0.414912,b'DOWN',;0.041161,0.546415,0.003467,0.422915,0.414912,b'DOWN',;0.044374,0.53496,0.003467,0.422915,0.414912,b'UP',;\n",
      "predicted: 0,predicted: 0,predicted: 0,predicted: 0,0;\n",
      "\n",
      "accuracy after 20: 0.0\n",
      "0.044374,0.51681,0.003467,0.422915,0.414912,b'UP',;0.044374,0.513984,0.003467,0.422915,0.414912,b'UP',;0.045485,0.513835,0.003467,0.422915,0.414912,b'UP',;\n",
      "predicted: 0,predicted: 0,predicted: 0,predicted: 0,0;\n",
      "\n",
      "accuracy after 23: 0.0\n",
      "0.044374,0.505356,0.003467,0.422915,0.414912,b'UP',;0.044374,0.497917,0.003467,0.422915,0.414912,b'UP',;0.042482,0.499554,0.003467,0.422915,0.414912,b'DOWN',;\n",
      "predicted: 0,predicted: 0,predicted: 0,predicted: 0,0;\n",
      "\n",
      "accuracy after 26: 0.0\n",
      "0.044374,0.491669,0.003467,0.422915,0.414912,b'UP',;0.044374,0.489735,0.003467,0.422915,0.414912,b'UP',;0.042482,0.47709,0.003467,0.422915,0.414912,b'DOWN',;\n",
      "predicted: 0,predicted: 0,predicted: 0,predicted: 0,0;\n",
      "\n",
      "accuracy after 29: 0.0\n",
      "0.040861,0.466825,0.003467,0.422915,0.414912,b'DOWN',;0.041161,0.478132,0.003467,0.422915,0.414912,b'DOWN',;0.041161,0.484975,0.003467,0.422915,0.414912,b'DOWN',;\n",
      "predicted: 0,predicted: 0,predicted: 0,predicted: 0,0;\n",
      "\n",
      "accuracy after 32: 0.0\n",
      "0.041161,0.503124,0.003467,0.422915,0.414912,b'DOWN',;0.042482,0.55296,0.003467,0.422915,0.414912,b'DOWN',;0.044374,0.612318,0.003467,0.422915,0.414912,b'UP',;\n",
      "predicted: 1,predicted: 1,predicted: 0,predicted: 0,0;\n",
      "\n",
      "accuracy after 35: 0.0\n",
      "0.041041,0.587623,0.003467,0.422915,0.414912,b'DOWN',;0.040711,0.546861,0.003467,0.422915,0.414912,b'DOWN',;0.040711,0.497025,0.003467,0.422915,0.414912,b'DOWN',;\n",
      "predicted: 0,predicted: 0,predicted: 0,predicted: 0,0;\n",
      "\n",
      "accuracy after 38: 0.0\n",
      "0.040861,0.470693,0.003467,0.422915,0.414912,b'DOWN',;0.041041,0.446296,0.003467,0.422915,0.414912,b'DOWN',;0.042482,0.412229,0.003467,0.422915,0.414912,b'DOWN',;\n",
      "predicted: 0,predicted: 0,predicted: 0,predicted: 0,0;\n",
      "\n",
      "accuracy after 41: 0.0\n",
      "0.041161,0.368789,0.003467,0.422915,0.414912,b'DOWN',;0.051489,0.34573,0.003467,0.422915,0.414912,b'UP',;0.056443,0.40479,0.003467,0.422915,0.414912,b'UP',;\n",
      "predicted: 0,predicted: 0,predicted: 0,predicted: 0,0;\n",
      "\n",
      "accuracy after 44: 0.0\n",
      "0.054642,0.42889,0.003467,0.422915,0.414912,b'UP',;0.059235,0.445254,0.003467,0.422915,0.414912,b'UP',;0.054642,0.44094,0.003467,0.422915,0.414912,b'UP',;\n",
      "predicted: 1,predicted: 1,predicted: 1,predicted: 1,0;\n",
      "\n",
      "accuracy after 47: 0.0\n",
      "0.059235,0.442874,0.003467,0.422915,0.414912,b'UP',;0.056443,0.41089,0.003467,0.422915,0.414912,b'UP',;0.051489,0.378905,0.003467,0.422915,0.414912,b'UP',;\n",
      "predicted: 1,predicted: 1,predicted: 1,predicted: 1,0;\n",
      "\n",
      "accuracy after 50: 0.0\n",
      "0.044374,0.316721,0.003467,0.422915,0.414912,b'DOWN',;0.041041,0.257959,0.003467,0.422915,0.414912,b'DOWN',;0.041161,0.214073,0.003467,0.422915,0.414912,b'DOWN',;\n",
      "predicted: 1,predicted: 1,predicted: 1,predicted: 1,0;\n",
      "\n",
      "accuracy after 53: 0.0\n",
      "0.041161,0.178816,0.003467,0.422915,0.414912,b'DOWN',;0.040951,0.151889,0.003467,0.422915,0.414912,b'DOWN',;0.041011,0.1385,0.003467,0.422915,0.414912,b'DOWN',;\n",
      "predicted: 0,predicted: 0,predicted: 0,predicted: 0,0;\n",
      "\n",
      "accuracy after 56: 0.0\n",
      "0.041041,0.142071,0.003467,0.422915,0.414912,b'DOWN',;0.042482,0.171675,0.003467,0.422915,0.414912,b'DOWN',;0.051489,0.214519,0.003467,0.422915,0.414912,b'UP',;\n",
      "predicted: 0,predicted: 0,predicted: 0,predicted: 0,0;\n",
      "\n",
      "accuracy after 59: 0.0\n",
      "0.051489,0.30244,0.003467,0.422915,0.414912,b'UP',;0.051489,0.393038,0.003467,0.422915,0.414912,b'UP',;0.040861,0.395567,0.003467,0.422915,0.414912,b'DOWN',;\n",
      "predicted: 1,predicted: 1,predicted: 1,predicted: 1,0;\n",
      "\n",
      "accuracy after 62: 0.0\n",
      "0.040861,0.456561,0.003467,0.422915,0.414912,b'DOWN',;0.040861,0.487504,0.003467,0.422915,0.414912,b'DOWN',;0.040861,0.488991,0.003467,0.422915,0.414912,b'DOWN',;\n",
      "predicted: 0,predicted: 0,predicted: 0,predicted: 0,0;\n",
      "\n",
      "accuracy after 65: 0.0\n",
      "0.041041,0.52886,0.003467,0.422915,0.414912,b'DOWN',;0.041041,0.533323,0.003467,0.422915,0.414912,b'DOWN',;0.041041,0.519935,0.003467,0.422915,0.414912,b'DOWN',;\n",
      "predicted: 0,predicted: 0,predicted: 0,predicted: 0,0;\n",
      "\n",
      "accuracy after 68: 0.0\n",
      "0.042362,0.502529,0.003467,0.422915,0.414912,b'DOWN',;0.042482,0.491818,0.003467,0.422915,0.414912,b'DOWN',;0.044374,0.486909,0.003467,0.422915,0.414912,b'DOWN',;\n",
      "predicted: 0,predicted: 0,predicted: 0,predicted: 0,0;\n",
      "\n",
      "accuracy after 71: 0.0\n",
      "0.044374,0.480363,0.003467,0.422915,0.414912,b'DOWN',;0.042482,0.477388,0.003467,0.422915,0.414912,b'DOWN',;0.042482,0.477388,0.003467,0.422915,0.414912,b'DOWN',;\n"
     ]
    }
   ],
   "source": [
    "import serial\n",
    "\n",
    "serialPort = serial.Serial(port=\"COM10\", baudrate=500000, bytesize=8, timeout= None, rtscts=False)\n",
    "\n",
    "\n",
    "step = 3\n",
    "config = 'partitionDim: ' + str(step) +','\n",
    "\n",
    "res = \"\"\n",
    "while 'start sending data' not in res: \n",
    "    res = serialPort.readline().decode()\n",
    "    print(res)\n",
    "    if 'waiting for configuration msg' in res:\n",
    "        serialPort.write(config.encode())\n",
    "\n",
    "predictions = []\n",
    "counter = 0\n",
    "\n",
    "for partition in range(0, len(df['class']), step):\n",
    "    data = \"\"\n",
    "    for i in range(partition, partition + step):\n",
    "        data += stringBuilder(df,i) + ',;'\n",
    "    print(data)\n",
    "    serialPort.write(data.encode())\n",
    "\n",
    "    res = serialPort.readline().decode()\n",
    "    print(res)\n",
    "    for sample in res.split(';'):\n",
    "        for out in sample.split(','):\n",
    "            if 'predicted:' in out:\n",
    "                predict = int(out.split(':')[1])\n",
    "                print(predict)\n",
    "                predictions.append(predict)   \n",
    "                if (predict == y_true[i]):\n",
    "                    counter += 1\n",
    "\n",
    "\n",
    "    print('accuracy after '+ str(i) + ': '+ str(counter/(i+1)))\n",
    "print('accuracy: ' + str(counter/len(predictions)))\n",
    "serial.Serial.close(serialPort)\n"
   ]
  },
  {
   "cell_type": "code",
   "execution_count": 8,
   "metadata": {},
   "outputs": [
    {
     "data": {
      "image/png": "[encoded data removed]",
      "text/plain": [
       "<Figure size 640x480 with 2 Axes>"
      ]
     },
     "metadata": {},
     "output_type": "display_data"
    },
    {
     "name": "stdout",
     "output_type": "stream",
     "text": [
      "              precision    recall  f1-score   support\n",
      "\n",
      "          UP       0.76      0.54      0.64      4787\n",
      "        Down       0.55      0.77      0.64      3416\n",
      "\n",
      "    accuracy                           0.64      8203\n",
      "   macro avg       0.65      0.65      0.64      8203\n",
      "weighted avg       0.67      0.64      0.64      8203\n",
      "\n"
     ]
    }
   ],
   "source": [
    "from sklearn.metrics import confusion_matrix\n",
    "import matplotlib.pyplot as plt\n",
    "from sklearn import metrics\n",
    "\n",
    "def convert(x):\n",
    "    if x.decode() == 'UP':\n",
    "        return 1\n",
    "    else:\n",
    "        return 0\n",
    "start = 0\n",
    "end = len(predictions)\n",
    "yy_true = list(map(convert,df['class'].values.tolist()))[start:end]\n",
    "y_pred = predictions[start:end]\n",
    "#print(df['class'].values.tolist()[start:end])\n",
    "#print(y_true)\n",
    "#print(y_pred)\n",
    "confusion_matrix = confusion_matrix(yy_true, y_pred)\n",
    "\n",
    "cm_display = metrics.ConfusionMatrixDisplay(confusion_matrix = confusion_matrix, display_labels = ['UP', 'Down'])\n",
    "\n",
    "cm_display.plot()\n",
    "plt.show()\n",
    "print(metrics.classification_report(yy_true, y_pred, target_names = ['UP', 'Down']))"
   ]
  }
 ],
 "metadata": {
  "kernelspec": {
   "display_name": "Python 3.11.0 64-bit",
   "language": "python",
   "name": "python3"
  },
  "language_info": {
   "codemirror_mode": {
    "name": "ipython",
    "version": 3
   },
   "file_extension": ".py",
   "mimetype": "text/x-python",
   "name": "python",
   "nbconvert_exporter": "python",
   "pygments_lexer": "ipython3",
   "version": "3.11.0"
  },
  "orig_nbformat": 4,
  "vscode": {
   "interpreter": {
    "hash": "961ba29095b76c930f4fc5dd59aa7edba0948bb17ac8528d55d140f484815b9d"
   }
  }
 },
 "nbformat": 4,
 "nbformat_minor": 2
}
