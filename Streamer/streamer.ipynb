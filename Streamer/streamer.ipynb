{
 "cells": [
  {
   "attachments": {},
   "cell_type": "markdown",
   "metadata": {},
   "source": [
    "# Streaming machine learning on Arduino"
   ]
  },
  {
   "attachments": {},
   "cell_type": "markdown",
   "metadata": {},
   "source": [
    "## Setup the environment"
   ]
  },
  {
   "cell_type": "code",
   "execution_count": null,
   "metadata": {},
   "outputs": [],
   "source": [
    "%pip install pyserial\n",
    "%pip install river"
   ]
  },
  {
   "attachments": {},
   "cell_type": "markdown",
   "metadata": {},
   "source": [
    "### Loading the datset"
   ]
  },
  {
   "cell_type": "code",
   "execution_count": 27,
   "metadata": {},
   "outputs": [
    {
     "name": "stdout",
     "output_type": "stream",
     "text": [
      "407808\n"
     ]
    }
   ],
   "source": [
    "from scipy.io import arff\n",
    "import pandas as pd\n",
    "\n",
    "data = arff.loadarff('elecNormNew.arff')\n",
    "df = pd.DataFrame(data[0])\n",
    "print(df.size)\n",
    "\n",
    "df.head(20)\n",
    "\n",
    "def convert(x):\n",
    "    if x.decode() == 'UP':\n",
    "        return 1\n",
    "    else:\n",
    "        return 0\n",
    "\n",
    "y_true = list(map(convert,df['class'].values.tolist()))"
   ]
  },
  {
   "cell_type": "code",
   "execution_count": 28,
   "metadata": {},
   "outputs": [
    {
     "name": "stdout",
     "output_type": "stream",
     "text": [
      "0.0\n",
      "0.056443,0.439155,0.003467,0.422915,0.414912,1\n",
      "0.041161,0.207528,0.003467,0.422915,0.414912,0\n"
     ]
    }
   ],
   "source": [
    "print(str(df['date'][0]))\n",
    "\n",
    "def stringBuilder(df,x):\n",
    "    # Build a string from the data in the dataframe\n",
    "    string = str(df['nswprice'][x]) + ',' + str(df['nswdemand'][x]) + ',' + str(df['vicprice'][x]) + ',' + str(df['vicdemand'][x]) + ',' + str(df['transfer'][x]) + ',' + str(y_true[x])\n",
    "    return string\n",
    "print(stringBuilder(df,0))\n",
    "print(stringBuilder(df,5))"
   ]
  },
  {
   "attachments": {},
   "cell_type": "markdown",
   "metadata": {},
   "source": [
    "## Run"
   ]
  },
  {
   "attachments": {},
   "cell_type": "markdown",
   "metadata": {},
   "source": [
    "### Start streaming the dataset over serial using the imported dataset"
   ]
  },
  {
   "cell_type": "code",
   "execution_count": 29,
   "metadata": {},
   "outputs": [
    {
     "name": "stdout",
     "output_type": "stream",
     "text": [
      "Serial started\n",
      "\n",
      "waiting for configuration msg\n",
      "\n",
      "configuration msg received\n",
      "\n",
      "partitionDim: 100, featureCount: 5\n",
      "\n",
      "start sending data\n",
      "\n",
      "accuracy after 100: 0.770\n",
      "accuracy after 200: 0.785\n",
      "accuracy after 300: 0.727\n",
      "accuracy after 400: 0.740\n",
      "accuracy after 500: 0.686\n",
      "accuracy after 600: 0.688\n",
      "accuracy after 700: 0.683\n",
      "accuracy after 800: 0.704\n",
      "accuracy after 900: 0.700\n",
      "accuracy after 1000: 0.710\n",
      "accuracy: 0.71\n"
     ]
    }
   ],
   "source": [
    "import serial\n",
    "\n",
    "serialPort = serial.Serial(port=\"COM10\", baudrate=500000, bytesize=8, timeout= None, rtscts=False)\n",
    "\n",
    "# Configuration\n",
    "step = 100\n",
    "featureCount = 5\n",
    "config = 'partitionDim: ' + str(step) +',featureCount: ' + str(featureCount) +','\n",
    "\n",
    "res = \"\"\n",
    "while 'start sending data' not in res: \n",
    "    res = serialPort.readline().decode()\n",
    "    print(res)\n",
    "    if 'waiting for configuration msg' in res:\n",
    "        serialPort.write(config.encode())\n",
    "\n",
    "\n",
    "# Start sending data\n",
    "predictions = []\n",
    "predTime = []\n",
    "trainTime = []\n",
    "counter = 0\n",
    "\n",
    "for partition in range(0, 1000, step):\n",
    "    data = \"\"\n",
    "    for i in range(partition, partition + step):\n",
    "        data += stringBuilder(df,i) + ',;'\n",
    "    #print(data)\n",
    "    serialPort.write(data.encode())\n",
    "\n",
    "    res = serialPort.readline().decode()\n",
    "    #print(res)\n",
    "    samples = res.split(';')\n",
    "    for x in range(0,len(samples)-1):\n",
    "        sample = samples[x]\n",
    "        for out in sample.split(','):\n",
    "            if 'predicted:' in out:\n",
    "                predict = int(out.split(':')[1])\n",
    "                #print(predict)\n",
    "                predictions.append(predict)   \n",
    "                if (predict == y_true[partition+x]):\n",
    "                    counter += 1\n",
    "            if 'prediction_time:' in out:\n",
    "                predTime.append(int(out.split(':')[1]))\n",
    "            if 'train_time:' in out:\n",
    "                trainTime.append(int(out.split(':')[1]))\n",
    "\n",
    "\n",
    "    print('accuracy after '+ str(partition+step) + ': '+ \"{:.3f}\".format(counter/(partition+step)), end='')\n",
    "    #print(', avg pred time: ' + str(int(sum(predTime)/len(predTime))) + 'μs, avg train time: ' + str(int(sum(trainTime)/len(trainTime))) + 'μs')\n",
    "    print()\n",
    "print('accuracy: ' + str(counter/len(predictions)))\n",
    "serial.Serial.close(serialPort)\n"
   ]
  },
  {
   "attachments": {},
   "cell_type": "markdown",
   "metadata": {},
   "source": [
    "### Start streaming the dataset over serial using the Sine dataset"
   ]
  },
  {
   "cell_type": "code",
   "execution_count": 23,
   "metadata": {},
   "outputs": [
    {
     "name": "stdout",
     "output_type": "stream",
     "text": [
      "Serial started\n",
      "\n",
      "waiting for configuration msg\n",
      "\n",
      "configuration msg received\n",
      "\n",
      "partitionDim: 50, featureCount: 2\n",
      "\n",
      "start sending data\n",
      "\n",
      "accuracy after 50: 0.980\n",
      "accuracy after 100: 0.990\n",
      "accuracy after 150: 0.993\n",
      "accuracy after 200: 0.995\n",
      "accuracy after 250: 0.996\n",
      "accuracy after 300: 0.997\n",
      "accuracy after 350: 0.997\n",
      "accuracy after 400: 0.998\n",
      "accuracy after 450: 0.998\n",
      "accuracy after 500: 0.998\n",
      "accuracy after 550: 0.998\n",
      "accuracy after 600: 0.998\n",
      "accuracy after 650: 0.998\n",
      "accuracy after 700: 0.999\n",
      "accuracy after 750: 0.999\n",
      "accuracy after 800: 0.999\n",
      "accuracy after 850: 0.999\n",
      "accuracy after 900: 0.999\n",
      "accuracy after 950: 0.999\n",
      "accuracy after 1000: 0.999\n",
      "accuracy after 1050: 0.999\n",
      "accuracy after 1100: 0.999\n",
      "accuracy after 1150: 0.999\n",
      "accuracy after 1200: 0.999\n",
      "accuracy after 1250: 0.999\n",
      "accuracy after 1300: 0.982\n",
      "accuracy: 0.9823076923076923\n"
     ]
    }
   ],
   "source": [
    "import serial\n",
    "from river.datasets import synth\n",
    "dataset = synth.Sine(classification_function = 2, seed = 112,balance_classes = True, has_noise = False)\n",
    "def stringBuilderSine(instance):\n",
    "    return str(instance[0][0]) + ',' + str(instance[0][1]) + ',' + str(instance[1])\n",
    "\n",
    "serialPort = serial.Serial(port=\"COM10\", baudrate=500000, bytesize=8, timeout= None, rtscts=False)\n",
    "\n",
    "# Configuration\n",
    "step = 50\n",
    "featureCount = 2\n",
    "config = 'partitionDim: ' + str(step) +',featureCount: ' + str(featureCount) +','\n",
    "\n",
    "res = \"\"\n",
    "while 'start sending data' not in res: \n",
    "    res = serialPort.readline().decode()\n",
    "    print(res)\n",
    "    if 'waiting for configuration msg' in res:\n",
    "        serialPort.write(config.encode())\n",
    "\n",
    "\n",
    "# Start sending data\n",
    "y_true = []\n",
    "predictions = []\n",
    "predTime = []\n",
    "trainTime = []\n",
    "counter = 0\n",
    "try:\n",
    "    for partition in range(0, 1300, step):\n",
    "        data = \"\"\n",
    "        for instance in dataset.take(step):\n",
    "            y_true.append(instance[1])\n",
    "            data += stringBuilderSine(instance) + ',;'\n",
    "        #print(data)\n",
    "        serialPort.write(data.encode())\n",
    "\n",
    "        res = serialPort.readline().decode()\n",
    "        #print(res)\n",
    "        samples = res.split(';')\n",
    "        for x in range(0,len(samples)-1):\n",
    "            sample = samples[x]\n",
    "            for out in sample.split(','):\n",
    "                if 'predicted:' in out:\n",
    "                    predict = int(out.split(':')[1])\n",
    "                    #print(predict)\n",
    "                    predictions.append(predict)   \n",
    "                    if (predict == y_true[partition+x]):\n",
    "                        counter += 1\n",
    "                if 'prediction_time:' in out:\n",
    "                    predTime.append(int(out.split(':')[1]))\n",
    "                if 'train_time:' in out:\n",
    "                    trainTime.append(int(out.split(':')[1]))\n",
    "\n",
    "\n",
    "        print('accuracy after '+ str(partition+step) + ': '+ \"{:.3f}\".format(counter/(partition+step)), end='')\n",
    "        #print(', avg pred time: ' + str(int(sum(predTime)/len(predTime))) + 'μs, avg train time: ' + str(int(sum(trainTime)/len(trainTime))) + 'μs')\n",
    "        print()\n",
    "    print('accuracy: ' + str(counter/len(predictions)))\n",
    "    #serial.Serial.close(serialPort)\n",
    "except: \n",
    "    serial.Serial.close(serialPort)\n",
    "finally:\n",
    "    serial.Serial.close(serialPort)\n"
   ]
  },
  {
   "attachments": {},
   "cell_type": "markdown",
   "metadata": {},
   "source": [
    "### Analize the results"
   ]
  },
  {
   "cell_type": "code",
   "execution_count": 24,
   "metadata": {},
   "outputs": [
    {
     "data": {
      "image/png": "[encoded data removed]",
      "text/plain": [
       "<Figure size 640x480 with 2 Axes>"
      ]
     },
     "metadata": {},
     "output_type": "display_data"
    },
    {
     "name": "stdout",
     "output_type": "stream",
     "text": [
      "              precision    recall  f1-score   support\n",
      "\n",
      "          UP       0.98      0.98      0.98       644\n",
      "        Down       0.98      0.98      0.98       644\n",
      "\n",
      "    accuracy                           0.98      1288\n",
      "   macro avg       0.98      0.98      0.98      1288\n",
      "weighted avg       0.98      0.98      0.98      1288\n",
      "\n",
      "accuracy after 1300: 0.982, avg pred time: 34μs, avg train time: 23282μs\n",
      "\n"
     ]
    }
   ],
   "source": [
    "from sklearn.metrics import confusion_matrix\n",
    "import matplotlib.pyplot as plt\n",
    "from sklearn import metrics\n",
    "\n",
    "start = 12\n",
    "end = len(predictions)\n",
    "\n",
    "yy_true = y_true[start:end]\n",
    "y_pred = predictions[start:end]\n",
    "#print(df['class'].values.tolist()[start:end])\n",
    "#print(yy_true)\n",
    "#print(predictions)\n",
    "confusion_matrix = confusion_matrix(yy_true, y_pred)\n",
    "\n",
    "cm_display = metrics.ConfusionMatrixDisplay(confusion_matrix = confusion_matrix, display_labels = ['UP', 'Down'])\n",
    "\n",
    "cm_display.plot()\n",
    "plt.show()\n",
    "print(metrics.classification_report(yy_true, y_pred, target_names = ['UP', 'Down']))\n",
    "print('accuracy after '+ str(partition+step) + ': '+ \"{:.3f}\".format(counter/(partition+step)), end='')\n",
    "print(', avg pred time: ' + str(int(sum(predTime)/len(predTime))) + 'μs, avg train time: ' + str(int(sum(trainTime)/len(trainTime))) + 'μs')\n",
    "print()"
   ]
  }
 ],
 "metadata": {
  "kernelspec": {
   "display_name": "Python 3.11.0 64-bit",
   "language": "python",
   "name": "python3"
  },
  "language_info": {
   "codemirror_mode": {
    "name": "ipython",
    "version": 3
   },
   "file_extension": ".py",
   "mimetype": "text/x-python",
   "name": "python",
   "nbconvert_exporter": "python",
   "pygments_lexer": "ipython3",
   "version": "3.11.0"
  },
  "orig_nbformat": 4,
  "vscode": {
   "interpreter": {
    "hash": "961ba29095b76c930f4fc5dd59aa7edba0948bb17ac8528d55d140f484815b9d"
   }
  }
 },
 "nbformat": 4,
 "nbformat_minor": 2
}
