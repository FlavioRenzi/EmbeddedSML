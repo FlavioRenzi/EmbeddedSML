{
 "cells": [
  {
   "cell_type": "markdown",
   "metadata": {},
   "source": [
    "# Streaming machine learning on Arduino"
   ]
  },
  {
   "attachments": {},
   "cell_type": "markdown",
   "metadata": {},
   "source": [
    "## Setup the environment"
   ]
  },
  {
   "attachments": {},
   "cell_type": "markdown",
   "metadata": {},
   "source": [
    "### Loading the datset"
   ]
  },
  {
   "cell_type": "code",
   "execution_count": 1,
   "metadata": {},
   "outputs": [
    {
     "name": "stdout",
     "output_type": "stream",
     "text": [
      "407808\n"
     ]
    }
   ],
   "source": [
    "from scipy.io import arff\n",
    "import pandas as pd\n",
    "\n",
    "data = arff.loadarff('elecNormNew.arff')\n",
    "df = pd.DataFrame(data[0])\n",
    "print(df.size)\n",
    "\n",
    "df.head(20)\n",
    "\n",
    "def convert(x):\n",
    "    if x.decode() == 'UP':\n",
    "        return 1\n",
    "    else:\n",
    "        return 0\n",
    "\n",
    "y_true = list(map(convert,df['class'].values.tolist()))"
   ]
  },
  {
   "cell_type": "code",
   "execution_count": 20,
   "metadata": {},
   "outputs": [
    {
     "name": "stdout",
     "output_type": "stream",
     "text": [
      "0.0\n",
      "0.056443,0.439155,0.003467,0.422915,0.414912,1\n",
      "0.041161,0.207528,0.003467,0.422915,0.414912,0\n"
     ]
    }
   ],
   "source": [
    "print(str(df['date'][0]))\n",
    "\n",
    "def stringBuilder(df,x):\n",
    "    # Build a string from the data in the dataframe\n",
    "    string = str(df['nswprice'][x]) + ',' + str(df['nswdemand'][x]) + ',' + str(df['vicprice'][x]) + ',' + str(df['vicdemand'][x]) + ',' + str(df['transfer'][x]) + ',' + str(y_true[x])\n",
    "    return string\n",
    "print(stringBuilder(df,0))\n",
    "print(stringBuilder(df,5))"
   ]
  },
  {
   "attachments": {},
   "cell_type": "markdown",
   "metadata": {},
   "source": [
    "### Install pyserial"
   ]
  },
  {
   "cell_type": "code",
   "execution_count": null,
   "metadata": {},
   "outputs": [],
   "source": [
    "%pip install pyserial"
   ]
  },
  {
   "attachments": {},
   "cell_type": "markdown",
   "metadata": {},
   "source": [
    "## Run"
   ]
  },
  {
   "attachments": {},
   "cell_type": "markdown",
   "metadata": {},
   "source": [
    "### Start streaming the dataset over serial"
   ]
  },
  {
   "cell_type": "code",
   "execution_count": 45,
   "metadata": {},
   "outputs": [
    {
     "name": "stdout",
     "output_type": "stream",
     "text": [
      "Serial started\n",
      "\n",
      "waiting for configuration msg\n",
      "\n",
      "configuration msg received\n",
      "\n",
      "partitionDim: 100\n",
      "\n",
      "start sending data\n",
      "\n",
      "accuracy after 100: 0.790, avg pred time: 414μs, avg train time: 71μs\n",
      "\n",
      "accuracy after 200: 0.800, avg pred time: 436μs, avg train time: 71μs\n",
      "\n",
      "accuracy after 300: 0.737, avg pred time: 448μs, avg train time: 71μs\n",
      "\n",
      "accuracy after 400: 0.748, avg pred time: 452μs, avg train time: 71μs\n",
      "\n",
      "accuracy after 500: 0.692, avg pred time: 456μs, avg train time: 71μs\n",
      "\n",
      "accuracy after 600: 0.692, avg pred time: 460μs, avg train time: 71μs\n",
      "\n",
      "accuracy after 700: 0.687, avg pred time: 461μs, avg train time: 71μs\n",
      "\n",
      "accuracy after 800: 0.708, avg pred time: 461μs, avg train time: 71μs\n",
      "\n",
      "accuracy after 900: 0.703, avg pred time: 463μs, avg train time: 71μs\n",
      "\n",
      "accuracy after 1000: 0.714, avg pred time: 466μs, avg train time: 71μs\n",
      "\n",
      "accuracy after 1100: 0.701, avg pred time: 468μs, avg train time: 71μs\n",
      "\n",
      "accuracy after 1200: 0.707, avg pred time: 470μs, avg train time: 71μs\n",
      "\n",
      "accuracy after 1300: 0.707, avg pred time: 471μs, avg train time: 71μs\n",
      "\n",
      "accuracy after 1400: 0.715, avg pred time: 472μs, avg train time: 71μs\n",
      "\n",
      "accuracy after 1500: 0.724, avg pred time: 473μs, avg train time: 71μs\n",
      "\n",
      "accuracy after 1600: 0.704, avg pred time: 474μs, avg train time: 71μs\n",
      "\n",
      "accuracy after 1700: 0.692, avg pred time: 474μs, avg train time: 71μs\n",
      "\n",
      "accuracy after 1800: 0.680, avg pred time: 474μs, avg train time: 71μs\n",
      "\n",
      "accuracy after 1900: 0.664, avg pred time: 475μs, avg train time: 71μs\n",
      "\n",
      "accuracy after 2000: 0.659, avg pred time: 475μs, avg train time: 71μs\n",
      "\n",
      "accuracy after 2100: 0.663, avg pred time: 476μs, avg train time: 71μs\n",
      "\n",
      "accuracy after 2200: 0.665, avg pred time: 476μs, avg train time: 71μs\n",
      "\n",
      "accuracy after 2300: 0.653, avg pred time: 476μs, avg train time: 71μs\n",
      "\n",
      "accuracy after 2400: 0.652, avg pred time: 476μs, avg train time: 71μs\n",
      "\n",
      "accuracy after 2500: 0.664, avg pred time: 476μs, avg train time: 71μs\n",
      "\n",
      "accuracy after 2600: 0.670, avg pred time: 476μs, avg train time: 71μs\n",
      "\n",
      "accuracy after 2700: 0.671, avg pred time: 476μs, avg train time: 71μs\n",
      "\n",
      "accuracy after 2800: 0.675, avg pred time: 476μs, avg train time: 71μs\n",
      "\n",
      "accuracy after 2900: 0.686, avg pred time: 477μs, avg train time: 71μs\n",
      "\n",
      "accuracy after 3000: 0.694, avg pred time: 477μs, avg train time: 71μs\n",
      "\n",
      "accuracy after 3100: 0.699, avg pred time: 477μs, avg train time: 71μs\n",
      "\n",
      "accuracy after 3200: 0.702, avg pred time: 477μs, avg train time: 71μs\n",
      "\n",
      "accuracy after 3300: 0.705, avg pred time: 477μs, avg train time: 71μs\n",
      "\n",
      "accuracy after 3400: 0.712, avg pred time: 477μs, avg train time: 71μs\n",
      "\n",
      "accuracy after 3500: 0.717, avg pred time: 477μs, avg train time: 71μs\n",
      "\n",
      "accuracy after 3600: 0.724, avg pred time: 477μs, avg train time: 71μs\n",
      "\n",
      "accuracy after 3700: 0.728, avg pred time: 477μs, avg train time: 71μs\n",
      "\n",
      "accuracy after 3800: 0.729, avg pred time: 477μs, avg train time: 71μs\n",
      "\n",
      "accuracy after 3900: 0.732, avg pred time: 477μs, avg train time: 71μs\n",
      "\n",
      "accuracy after 4000: 0.731, avg pred time: 477μs, avg train time: 71μs\n",
      "\n",
      "accuracy after 4100: 0.729, avg pred time: 476μs, avg train time: 71μs\n",
      "\n",
      "accuracy after 4200: 0.730, avg pred time: 476μs, avg train time: 71μs\n",
      "\n",
      "accuracy after 4300: 0.732, avg pred time: 476μs, avg train time: 71μs\n",
      "\n",
      "accuracy after 4400: 0.731, avg pred time: 476μs, avg train time: 71μs\n",
      "\n",
      "accuracy after 4500: 0.735, avg pred time: 476μs, avg train time: 71μs\n",
      "\n",
      "accuracy: 0.7348888888888889\n"
     ]
    }
   ],
   "source": [
    "import serial\n",
    "\n",
    "serialPort = serial.Serial(port=\"COM10\", baudrate=500000, bytesize=8, timeout= None, rtscts=False)\n",
    "\n",
    "# Configuration\n",
    "step = 100\n",
    "config = 'partitionDim: ' + str(step) +','\n",
    "\n",
    "res = \"\"\n",
    "while 'start sending data' not in res: \n",
    "    res = serialPort.readline().decode()\n",
    "    print(res)\n",
    "    if 'waiting for configuration msg' in res:\n",
    "        serialPort.write(config.encode())\n",
    "\n",
    "\n",
    "# Start sending data\n",
    "predictions = []\n",
    "predTime = []\n",
    "trainTime = []\n",
    "counter = 0\n",
    "\n",
    "for partition in range(0, 4500, step):\n",
    "    data = \"\"\n",
    "    for i in range(partition, partition + step):\n",
    "        data += stringBuilder(df,i) + ',;'\n",
    "    #print(data)\n",
    "    serialPort.write(data.encode())\n",
    "\n",
    "    res = serialPort.readline().decode()\n",
    "    #print(res)\n",
    "    samples = res.split(';')\n",
    "    for x in range(0,len(samples)-1):\n",
    "        sample = samples[x]\n",
    "        for out in sample.split(','):\n",
    "            if 'predicted:' in out:\n",
    "                predict = int(out.split(':')[1])\n",
    "                #print(predict)\n",
    "                predictions.append(predict)   \n",
    "                if (predict == y_true[partition+x]):\n",
    "                    counter += 1\n",
    "            if 'prediction_time:' in out:\n",
    "                predTime.append(int(out.split(':')[1]))\n",
    "            if 'train_time:' in out:\n",
    "                trainTime.append(int(out.split(':')[1]))\n",
    "\n",
    "\n",
    "    print('accuracy after '+ str(partition+step) + ': '+ \"{:.3f}\".format(counter/(partition+step)), end='')\n",
    "    print(', avg pred time: ' + str(int(sum(predTime)/len(predTime))) + 'μs, avg train time: ' + str(int(sum(trainTime)/len(trainTime))) + 'μs')\n",
    "    print()\n",
    "print('accuracy: ' + str(counter/len(predictions)))\n",
    "serial.Serial.close(serialPort)\n"
   ]
  },
  {
   "attachments": {},
   "cell_type": "markdown",
   "metadata": {},
   "source": [
    "### Analize the results"
   ]
  },
  {
   "cell_type": "code",
   "execution_count": 46,
   "metadata": {},
   "outputs": [
    {
     "data": {
      "image/png": "[encoded data removed]",
      "text/plain": [
       "<Figure size 640x480 with 2 Axes>"
      ]
     },
     "metadata": {},
     "output_type": "display_data"
    },
    {
     "name": "stdout",
     "output_type": "stream",
     "text": [
      "              precision    recall  f1-score   support\n",
      "\n",
      "          UP       0.78      0.78      0.78      2730\n",
      "        Down       0.66      0.67      0.67      1770\n",
      "\n",
      "    accuracy                           0.73      4500\n",
      "   macro avg       0.72      0.72      0.72      4500\n",
      "weighted avg       0.74      0.73      0.74      4500\n",
      "\n",
      "accuracy after 4500: 0.735, avg pred time: 476μs, avg train time: 71μs\n",
      "\n"
     ]
    }
   ],
   "source": [
    "from sklearn.metrics import confusion_matrix\n",
    "import matplotlib.pyplot as plt\n",
    "from sklearn import metrics\n",
    "\n",
    "start = 0\n",
    "end = len(predictions)\n",
    "\n",
    "yy_true = y_true[start:end]\n",
    "y_pred = predictions[start:end]\n",
    "#print(df['class'].values.tolist()[start:end])\n",
    "#print(yy_true)\n",
    "#print(y_pred)\n",
    "confusion_matrix = confusion_matrix(yy_true, y_pred)\n",
    "\n",
    "cm_display = metrics.ConfusionMatrixDisplay(confusion_matrix = confusion_matrix, display_labels = ['UP', 'Down'])\n",
    "\n",
    "cm_display.plot()\n",
    "plt.show()\n",
    "print(metrics.classification_report(yy_true, y_pred, target_names = ['UP', 'Down']))\n",
    "print('accuracy after '+ str(partition+step) + ': '+ \"{:.3f}\".format(counter/(partition+step)), end='')\n",
    "print(', avg pred time: ' + str(int(sum(predTime)/len(predTime))) + 'μs, avg train time: ' + str(int(sum(trainTime)/len(trainTime))) + 'μs')\n",
    "print()"
   ]
  }
 ],
 "metadata": {
  "kernelspec": {
   "display_name": "Python 3.11.0 64-bit",
   "language": "python",
   "name": "python3"
  },
  "language_info": {
   "codemirror_mode": {
    "name": "ipython",
    "version": 3
   },
   "file_extension": ".py",
   "mimetype": "text/x-python",
   "name": "python",
   "nbconvert_exporter": "python",
   "pygments_lexer": "ipython3",
   "version": "3.11.0"
  },
  "orig_nbformat": 4,
  "vscode": {
   "interpreter": {
    "hash": "961ba29095b76c930f4fc5dd59aa7edba0948bb17ac8528d55d140f484815b9d"
   }
  }
 },
 "nbformat": 4,
 "nbformat_minor": 2
}
