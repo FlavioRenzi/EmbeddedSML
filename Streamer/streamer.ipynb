{
 "cells": [
  {
   "attachments": {},
   "cell_type": "markdown",
   "metadata": {},
   "source": [
    "# Streaming machine learning on Arduino"
   ]
  },
  {
   "attachments": {},
   "cell_type": "markdown",
   "metadata": {},
   "source": [
    "## Setup the environment"
   ]
  },
  {
   "cell_type": "code",
   "execution_count": null,
   "metadata": {},
   "outputs": [],
   "source": [
    "%pip install pyserial\n",
    "%pip install river"
   ]
  },
  {
   "attachments": {},
   "cell_type": "markdown",
   "metadata": {},
   "source": [
    "### Loading the datset"
   ]
  },
  {
   "cell_type": "code",
   "execution_count": 1,
   "metadata": {},
   "outputs": [
    {
     "name": "stdout",
     "output_type": "stream",
     "text": [
      "407808\n"
     ]
    }
   ],
   "source": [
    "from scipy.io import arff\n",
    "import pandas as pd\n",
    "\n",
    "data = arff.loadarff('elecNormNew.arff')\n",
    "df = pd.DataFrame(data[0])\n",
    "print(df.size)\n",
    "\n",
    "df.head(20)\n",
    "\n",
    "def convert(x):\n",
    "    if x.decode() == 'UP':\n",
    "        return 1\n",
    "    else:\n",
    "        return 0\n",
    "\n",
    "y_true = list(map(convert,df['class'].values.tolist()))"
   ]
  },
  {
   "cell_type": "code",
   "execution_count": 2,
   "metadata": {},
   "outputs": [
    {
     "name": "stdout",
     "output_type": "stream",
     "text": [
      "0.0\n",
      "0.056443,0.439155,0.003467,0.422915,0.414912,1\n",
      "0.041161,0.207528,0.003467,0.422915,0.414912,0\n"
     ]
    }
   ],
   "source": [
    "print(str(df['date'][0]))\n",
    "\n",
    "def stringBuilder(df,x):\n",
    "    # Build a string from the data in the dataframe\n",
    "    string = str(df['nswprice'][x]) + ',' + str(df['nswdemand'][x]) + ',' + str(df['vicprice'][x]) + ',' + str(df['vicdemand'][x]) + ',' + str(df['transfer'][x]) + ',' + str(y_true[x])\n",
    "    return string\n",
    "print(stringBuilder(df,0))\n",
    "print(stringBuilder(df,5))"
   ]
  },
  {
   "attachments": {},
   "cell_type": "markdown",
   "metadata": {},
   "source": [
    "## Run"
   ]
  },
  {
   "attachments": {},
   "cell_type": "markdown",
   "metadata": {},
   "source": [
    "### Start streaming the dataset over serial using the imported dataset"
   ]
  },
  {
   "cell_type": "code",
   "execution_count": 2,
   "metadata": {},
   "outputs": [
    {
     "name": "stdout",
     "output_type": "stream",
     "text": [
      "init\n",
      "\n"
     ]
    },
    {
     "ename": "SerialException",
     "evalue": "ClearCommError failed (PermissionError(13, 'Il dispositivo non riconosce il comando.', None, 22))",
     "output_type": "error",
     "traceback": [
      "\u001b[1;31m---------------------------------------------------------------------------\u001b[0m",
      "\u001b[1;31mSerialException\u001b[0m                           Traceback (most recent call last)",
      "\u001b[1;32mc:\\Users\\flavi\\Documents\\GitHub\\EmbeddedSML\\Streamer\\streamer.ipynb Cell 9\u001b[0m in \u001b[0;36m1\n\u001b[0;32m     <a href='vscode-notebook-cell:/c%3A/Users/flavi/Documents/GitHub/EmbeddedSML/Streamer/streamer.ipynb#X11sZmlsZQ%3D%3D?line=9'>10</a>\u001b[0m res \u001b[39m=\u001b[39m \u001b[39m\"\u001b[39m\u001b[39m\"\u001b[39m\n\u001b[0;32m     <a href='vscode-notebook-cell:/c%3A/Users/flavi/Documents/GitHub/EmbeddedSML/Streamer/streamer.ipynb#X11sZmlsZQ%3D%3D?line=10'>11</a>\u001b[0m \u001b[39mwhile\u001b[39;00m \u001b[39m'\u001b[39m\u001b[39mstart sending data\u001b[39m\u001b[39m'\u001b[39m \u001b[39mnot\u001b[39;00m \u001b[39min\u001b[39;00m res: \n\u001b[1;32m---> <a href='vscode-notebook-cell:/c%3A/Users/flavi/Documents/GitHub/EmbeddedSML/Streamer/streamer.ipynb#X11sZmlsZQ%3D%3D?line=11'>12</a>\u001b[0m     res \u001b[39m=\u001b[39m serialPort\u001b[39m.\u001b[39;49mreadline()\u001b[39m.\u001b[39mdecode()\n\u001b[0;32m     <a href='vscode-notebook-cell:/c%3A/Users/flavi/Documents/GitHub/EmbeddedSML/Streamer/streamer.ipynb#X11sZmlsZQ%3D%3D?line=12'>13</a>\u001b[0m     \u001b[39mprint\u001b[39m(res)\n\u001b[0;32m     <a href='vscode-notebook-cell:/c%3A/Users/flavi/Documents/GitHub/EmbeddedSML/Streamer/streamer.ipynb#X11sZmlsZQ%3D%3D?line=13'>14</a>\u001b[0m     \u001b[39mif\u001b[39;00m \u001b[39m'\u001b[39m\u001b[39mwaiting for configuration msg\u001b[39m\u001b[39m'\u001b[39m \u001b[39min\u001b[39;00m res:\n",
      "File \u001b[1;32mc:\\Users\\flavi\\AppData\\Local\\Programs\\Python\\Python311\\Lib\\site-packages\\serial\\serialwin32.py:275\u001b[0m, in \u001b[0;36mSerial.read\u001b[1;34m(self, size)\u001b[0m\n\u001b[0;32m    273\u001b[0m comstat \u001b[39m=\u001b[39m win32\u001b[39m.\u001b[39mCOMSTAT()\n\u001b[0;32m    274\u001b[0m \u001b[39mif\u001b[39;00m \u001b[39mnot\u001b[39;00m win32\u001b[39m.\u001b[39mClearCommError(\u001b[39mself\u001b[39m\u001b[39m.\u001b[39m_port_handle, ctypes\u001b[39m.\u001b[39mbyref(flags), ctypes\u001b[39m.\u001b[39mbyref(comstat)):\n\u001b[1;32m--> 275\u001b[0m     \u001b[39mraise\u001b[39;00m SerialException(\u001b[39m\"\u001b[39m\u001b[39mClearCommError failed (\u001b[39m\u001b[39m{!r}\u001b[39;00m\u001b[39m)\u001b[39m\u001b[39m\"\u001b[39m\u001b[39m.\u001b[39mformat(ctypes\u001b[39m.\u001b[39mWinError()))\n\u001b[0;32m    276\u001b[0m n \u001b[39m=\u001b[39m \u001b[39mmin\u001b[39m(comstat\u001b[39m.\u001b[39mcbInQue, size) \u001b[39mif\u001b[39;00m \u001b[39mself\u001b[39m\u001b[39m.\u001b[39mtimeout \u001b[39m==\u001b[39m \u001b[39m0\u001b[39m \u001b[39melse\u001b[39;00m size\n\u001b[0;32m    277\u001b[0m \u001b[39mif\u001b[39;00m n \u001b[39m>\u001b[39m \u001b[39m0\u001b[39m:\n",
      "\u001b[1;31mSerialException\u001b[0m: ClearCommError failed (PermissionError(13, 'Il dispositivo non riconosce il comando.', None, 22))"
     ]
    }
   ],
   "source": [
    "import serial\n",
    "\n",
    "serialPort = serial.Serial(port=\"COM14\", baudrate=500000, bytesize=8, timeout= None, rtscts=False)\n",
    "print('init')\n",
    "# Configuration\n",
    "step = 1\n",
    "featureCount = 5\n",
    "config = 'partitionDim: ' + str(step) +',featureCount: ' + str(featureCount) +','\n",
    "\n",
    "res = \"\"\n",
    "while 'start sending data' not in res: \n",
    "    res = serialPort.readline().decode()\n",
    "    print(res)\n",
    "    if 'waiting for configuration msg' in res:\n",
    "        serialPort.write(config.encode())\n",
    "\n",
    "\n",
    "# Start sending data\n",
    "predictions = []\n",
    "predTime = []\n",
    "trainTime = []\n",
    "counter = 0\n",
    "\n",
    "for partition in range(0, 1000, step):\n",
    "    data = \"\"\n",
    "    for i in range(partition, partition + step):\n",
    "        data += stringBuilder(df,i) + ',;'\n",
    "    #print(data)\n",
    "    serialPort.write(data.encode())\n",
    "\n",
    "    res = serialPort.readline().decode()\n",
    "    #print(res)\n",
    "    samples = res.split(';')\n",
    "    for x in range(0,len(samples)-1):\n",
    "        sample = samples[x]\n",
    "        for out in sample.split(','):\n",
    "            if 'predicted:' in out:\n",
    "                predict = int(out.split(':')[1])\n",
    "                #print(predict)\n",
    "                predictions.append(predict)   \n",
    "                if (predict == y_true[partition+x]):\n",
    "                    counter += 1\n",
    "            if 'prediction_time:' in out:\n",
    "                predTime.append(int(out.split(':')[1]))\n",
    "            if 'train_time:' in out:\n",
    "                trainTime.append(int(out.split(':')[1]))\n",
    "\n",
    "\n",
    "    print('accuracy after '+ str(partition+step) + ': '+ \"{:.3f}\".format(counter/(partition+step)), end='')\n",
    "    #print(', avg pred time: ' + str(int(sum(predTime)/len(predTime))) + 'μs, avg train time: ' + str(int(sum(trainTime)/len(trainTime))) + 'μs')\n",
    "    print()\n",
    "print('accuracy: ' + str(counter/len(predictions)))\n",
    "serial.Serial.close(serialPort)\n"
   ]
  },
  {
   "attachments": {},
   "cell_type": "markdown",
   "metadata": {},
   "source": [
    "### Start streaming the dataset over serial using the Sine dataset"
   ]
  },
  {
   "cell_type": "code",
   "execution_count": 8,
   "metadata": {},
   "outputs": [
    {
     "name": "stdout",
     "output_type": "stream",
     "text": [
      "$j͝5\n",
      "\n",
      "waiting for configuration msg\n",
      "\n",
      "waiting for configuration msg\n",
      "\n",
      "configuration msg received\n",
      "\n",
      "partitionDim: 200, featureCount: 2\n",
      "\n",
      "start sending data\n",
      "\n",
      "accuracy after 200: 0.000\n",
      "accuracy after 400: 0.290\n",
      "accuracy after 600: 0.460\n",
      "accuracy after 800: 0.545\n",
      "accuracy after 1000: 0.596\n",
      "accuracy after 1200: 0.630\n",
      "accuracy after 1400: 0.654\n"
     ]
    }
   ],
   "source": [
    "import serial\n",
    "from river.datasets import synth\n",
    "dataset = synth.Sine(classification_function = 2, seed = 112,balance_classes = True, has_noise = False)\n",
    "def stringBuilderSine(instance):\n",
    "    return str(instance[0][0]) + ',' + str(instance[0][1]) + ',' + str(instance[1])\n",
    "\n",
    "serialPort = serial.Serial(port=\"COM12\", baudrate=500000, bytesize=8, timeout= None, rtscts=False)\n",
    "\n",
    "# Configuration\n",
    "step = 200\n",
    "featureCount = 2\n",
    "config = 'partitionDim: ' + str(step) +',featureCount: ' + str(featureCount) +','\n",
    "\n",
    "res = \"\"\n",
    "while 'start sending data' not in res: \n",
    "    res = serialPort.readline().decode()\n",
    "    print(res)\n",
    "    if 'waiting for configuration msg' in res:\n",
    "        serialPort.write(config.encode())\n",
    "\n",
    "\n",
    "# Start sending data\n",
    "y_true = []\n",
    "predictions = []\n",
    "predTime = []\n",
    "trainTime = []\n",
    "counter = 0\n",
    "try:\n",
    "    for partition in range(0, 13000, step):\n",
    "        data = \"\"\n",
    "        for instance in dataset.take(step):\n",
    "            y_true.append(instance[1])\n",
    "            data += stringBuilderSine(instance) + ',;'\n",
    "        #print(data)\n",
    "        serialPort.write(data.encode())\n",
    "\n",
    "        res = serialPort.readline().decode()\n",
    "        #print(res)\n",
    "        samples = res.split(';')\n",
    "        for x in range(0,len(samples)-1):\n",
    "            sample = samples[x]\n",
    "            for out in sample.split(','):\n",
    "                if 'predicted:' in out:\n",
    "                    predict = int(out.split(':')[1])\n",
    "                    #print(predict)\n",
    "                    predictions.append(predict)   \n",
    "                    if (predict == y_true[partition+x]):\n",
    "                        counter += 1\n",
    "                if 'prediction_time:' in out:\n",
    "                    predTime.append(int(out.split(':')[1]))\n",
    "                if 'train_time:' in out:\n",
    "                    trainTime.append(int(out.split(':')[1]))\n",
    "\n",
    "\n",
    "        print('accuracy after '+ str(partition+step) + ': '+ \"{:.3f}\".format(counter/(partition+step)), end='')\n",
    "        #print(', avg pred time: ' + str(int(sum(predTime)/len(predTime))) + 'μs, avg train time: ' + str(int(sum(trainTime)/len(trainTime))) + 'μs')\n",
    "        print()\n",
    "    print('accuracy: ' + str(counter/len(predictions)))\n",
    "    #serial.Serial.close(serialPort)\n",
    "except: \n",
    "    serial.Serial.close(serialPort)\n",
    "finally:\n",
    "    serial.Serial.close(serialPort)\n"
   ]
  },
  {
   "attachments": {},
   "cell_type": "markdown",
   "metadata": {},
   "source": [
    "### Analize the results"
   ]
  },
  {
   "cell_type": "code",
   "execution_count": 4,
   "metadata": {},
   "outputs": [
    {
     "name": "stdout",
     "output_type": "stream",
     "text": [
      "[0, 1, 0, 1, 0, 1, 0, 1, 0, 1, 0, 1, 0, 1, 0, 1, 0, 1, 0, 1, 0, 1, 0, 1, 0, 1, 0, 1, 0, 1, 0, 1, 0, 1, 0, 1, 0, 1, 0, 1, 0, 1, 0, 1, 0, 1, 0, 1, 0, 1, 0, 1, 0, 1, 0, 1, 0, 1, 0, 1, 0, 1, 0, 1, 0, 1, 0, 1, 0, 1, 0, 1, 0, 1, 0, 1, 0, 1, 0, 1, 0, 1, 0, 1, 0, 1, 0, 1, 0, 1, 0, 1, 0, 1, 0, 1, 0, 1, 0, 1, 0, 1, 0, 1, 0, 1, 0, 1, 0, 1, 0, 1, 0, 1, 0, 1, 0, 1, 0, 1, 0, 1, 0, 1, 0, 1, 0, 1, 0, 1, 0, 1, 0, 1, 0, 1, 0, 1, 0, 1, 0, 1, 0, 1, 0, 1, 0, 1, 0, 1, 0, 1, 0, 1, 0, 1, 0, 1, 0, 1, 0, 1, 0, 1, 0, 1, 0, 1, 0, 1, 0, 1, 0, 1, 0, 1, 0, 1, 0, 1, 0, 1, 0, 1, 0, 1, 0, 1, 0, 1, 0, 1, 0, 1, 0, 1, 0, 1, 0, 1, 0, 1, 0, 1, 0, 1, 0, 1, 0, 1, 0, 1, 0, 1, 0, 1, 0, 1, 0, 1, 0, 1, 0, 1, 0, 1, 0, 1, 0, 1, 0, 1, 0, 1, 0, 1, 0, 1, 0, 1, 0, 1, 0, 1, 0, 1, 0, 1, 0, 1, 0, 1, 0, 1, 0, 0, 0, 0, 1, 0, 1, 0, 1, 0, 0, 0, 1, 0, 1, 0, 1, 0, 0, 1, 1, 0, 1, 0, 1, 0, 1, 0, 0, 0, 1, 0, 1, 1, 1, 0, 1, 1, 1, 0, 1, 0, 0, 0, 1, 0, 1, 0, 1, 1, 1, 0, 1, 0, 1, 0, 0, 0, 1, 0, 1, 0, 0, 0, 1, 0, 1, 0, 1, 0, 1, 1, 1, 1, 1, 1, 1, 0, 0, 1, 1, 0, 0, 0, 1, 0, 1, 0, 1, 0, 0, 0, 1, 0, 1, 0, 1, 0, 1, 0, 0, 1, 1, 1, 1, 0, 1, 0, 0, 1, 1, 0, 1, 0, 0, 0, 1, 1, 0, 0, 0, 1, 1, 0, 1, 0, 1, 0, 1, 0, 0, 0, 1, 0, 1, 0, 1, 0, 1, 0, 1, 0, 1, 0, 1, 0, 1, 0, 1, 1, 1, 0, 1, 0, 1, 0, 1, 0, 0, 0, 1, 0, 0, 1, 0, 0, 1, 0, 0, 0, 1, 0, 1, 0, 0, 1, 1, 0, 0, 0, 1, 1, 0, 0, 1, 0, 1, 0, 1, 0, 1, 0, 1, 0, 1, 0, 1, 0, 1, 0, 1, 0, 0, 0, 1, 0, 1, 0, 1, 0, 0, 0, 1, 0, 1, 0, 1, 0, 0, 1, 1, 0, 1, 0, 1, 0, 1, 0, 0, 0, 1, 0, 1, 1, 1, 0, 1, 1, 1, 0, 1, 0, 0, 0, 1, 0, 1, 0, 1, 1, 1, 0, 1, 0, 1, 0, 0, 0, 1, 0, 1, 0, 0, 0, 1, 0, 1, 0, 1, 0, 1, 1, 1, 1, 1, 1, 1, 0, 0, 1, 1, 0, 0, 0, 1, 0, 1, 0, 1, 0, 0, 0, 1, 0, 1, 0, 1, 0, 1, 0, 0, 1, 1, 1, 1, 0, 1, 0, 0, 1, 1, 0, 1, 0, 0, 0, 1, 1, 0, 0, 0, 1, 1, 0, 1, 0, 1, 0, 1, 0, 0, 0, 1, 0, 1, 0, 1, 0, 1, 0, 1, 0, 1, 0, 1, 0, 1, 0, 1, 1, 1, 0, 1, 0, 1, 0, 1, 0, 0, 0, 1, 0, 0, 1, 0, 0, 1, 0, 0, 0, 1, 0, 1, 0, 0, 1, 1, 0, 0, 0, 1, 1, 0, 0, 1, 0, 1, 0, 1, 0, 1, 0, 1, 0, 1, 0, 1, 0, 1, 0, 1, 0, 0, 0, 1, 0, 1, 0, 1, 0, 0, 0, 1, 0, 1, 0, 1, 0, 0, 1, 1, 0, 1, 0, 1, 0, 1, 0, 0, 0, 1, 0, 1, 1, 1, 0, 1, 1, 1, 0, 1, 0, 0, 0, 1, 0, 1, 0, 1, 1, 1, 0, 1, 0, 1, 0, 0, 0, 1, 0, 1, 0, 0, 0, 1, 0, 1, 0, 1, 0, 1, 1, 1, 1, 1, 1, 1, 0, 0, 1, 1, 0, 0, 0, 1, 0, 1, 0, 1, 0, 0, 0, 1, 0, 1, 0, 1, 0, 1, 0, 0, 1, 1, 1, 1, 0, 1, 0, 0, 1, 1, 0, 1, 0, 0, 0, 1, 1, 0, 0, 0, 1, 1, 0, 1, 0, 1, 0, 1, 0, 0, 0, 1, 0, 1, 0, 1, 0, 1, 0, 1, 0, 1, 0, 1, 0, 1, 0, 1, 1, 1, 0, 1, 0, 1, 0, 1, 0, 0, 0, 1, 0, 0, 1, 0, 0, 1, 0, 0, 0, 1, 0, 1, 0, 0, 1, 1, 0, 0, 0, 1, 1, 0, 0, 1, 0, 1, 0, 1, 0, 1, 0, 1, 0, 1, 0, 1, 0, 1, 0, 1, 0, 0, 0, 1, 0, 1, 0, 1, 0, 0, 0, 1, 0, 1, 0, 1, 0, 0, 1, 1, 0, 1, 0, 1, 0, 1, 0, 0, 0, 1, 0, 1, 1, 1, 0, 1, 1, 1, 0, 1, 0, 0, 0, 1, 0, 1, 0, 1, 1, 1, 0, 1, 0, 1, 0, 0, 0, 1, 0, 1, 0, 0, 0, 1, 0, 1, 0, 1, 0, 1, 1, 1, 1, 1, 1, 1, 0, 0, 1, 1, 0, 0, 0, 1, 0, 1, 0, 1, 0, 0, 0, 1, 0, 1, 0, 1, 0, 1, 0, 0, 1, 1, 1, 1, 0, 1, 0, 0, 1, 1, 0, 1, 0, 0, 0, 1, 1, 0, 0, 0, 1, 1, 0, 1, 0, 1, 0, 1, 0, 0, 0, 1, 0, 1, 0, 1, 0, 1, 0, 1, 0, 1, 0, 1, 0, 1, 0, 1, 1, 1, 0, 1, 0, 1, 0, 1, 0, 0, 0, 1, 0, 0, 1, 0, 0, 1, 0, 0, 0, 1, 0, 1, 0, 0, 1, 1, 0, 0, 0, 1, 1, 0, 0, 1, 0, 1, 0, 1, 0, 1, 0, 1, 0, 1, 0, 1, 0, 1, 0, 1, 0, 0, 0, 1, 0, 1, 0, 1, 0, 0, 0, 1, 0, 1, 0, 1, 0, 0, 1, 1, 0, 1, 0, 1, 0, 1, 0, 0, 0, 1, 0, 1, 1, 1, 0, 1, 1, 1, 0, 1, 0, 0, 0, 1, 0, 1, 0, 1, 1, 1, 0, 1, 0, 1, 0, 0, 0, 1, 0, 1, 0, 0, 0, 1, 0, 1, 0, 1, 0, 1, 1, 1, 1, 1, 1, 1, 0, 0, 1, 1, 0, 0, 0, 1, 0, 1, 0, 1, 0, 0, 0, 1, 0, 1, 0, 1, 0, 1, 0, 0, 1, 1, 1, 1, 0, 1, 0, 0, 1, 1, 0, 1, 0, 0, 0, 1, 1, 0, 0, 0, 1, 1, 0, 1, 0, 1, 0, 1, 0, 0, 0, 1, 0, 1, 0, 1, 0, 1, 0, 1, 0, 1, 0, 1, 0, 1, 0, 1, 1, 1, 0, 1, 0, 1, 0, 1, 0, 0, 0, 1, 0, 0, 1, 0, 0, 1, 0, 0, 0, 1, 0, 1, 0, 0, 1, 1, 0, 0, 0, 1, 1, 0, 0, 1, 0, 1, 0, 1, 0, 1, 0, 1, 0, 1, 0, 1, 0, 1, 0, 1, 0, 0, 0, 1, 0, 1, 0, 1, 0, 0, 0, 1, 0, 1, 0, 1, 0, 0, 1, 1, 0, 1, 0, 1, 0, 1, 0, 0, 0, 1, 0, 1, 1, 1, 0, 1, 1, 1, 0, 1, 0, 0, 0, 1, 0, 1, 0, 1, 1, 1, 0, 1, 0, 1, 0, 0, 0, 1, 0, 1, 0, 0, 0, 1, 0, 1, 0, 1, 0, 1, 1, 1, 1, 1, 1, 1, 0, 0, 1, 1, 0, 0, 0, 1, 0, 1, 0, 1, 0, 0, 0, 1, 0, 1, 0, 1, 0, 1, 0, 0, 1, 1, 1, 1, 0, 1, 0, 0, 1, 1, 0, 1, 0, 0, 0, 1, 1, 0, 0, 0, 1, 1, 0, 1, 0, 1, 0, 1, 0, 0, 0, 1, 0, 1, 0, 1, 0, 1, 0, 1, 0, 1, 0, 1, 0, 0, 0, 0, 0]\n"
     ]
    },
    {
     "data": {
      "image/png": "[encoded data removed]",
      "text/plain": [
       "<Figure size 640x480 with 2 Axes>"
      ]
     },
     "metadata": {},
     "output_type": "display_data"
    },
    {
     "name": "stdout",
     "output_type": "stream",
     "text": [
      "              precision    recall  f1-score   support\n",
      "\n",
      "          UP       0.78      0.83      0.81       200\n",
      "        Down       0.82      0.77      0.79       200\n",
      "\n",
      "    accuracy                           0.80       400\n",
      "   macro avg       0.80      0.80      0.80       400\n",
      "weighted avg       0.80      0.80      0.80       400\n",
      "\n",
      "accuracy after 3600: 0.254, avg pred time: 57μs, avg train time: 9729μs\n",
      "\n"
     ]
    }
   ],
   "source": [
    "from sklearn.metrics import confusion_matrix\n",
    "import matplotlib.pyplot as plt\n",
    "from sklearn import metrics\n",
    "\n",
    "start = 800\n",
    "end = 1200#len(predictions)\n",
    "\n",
    "yy_true = y_true[start:end]\n",
    "y_pred = predictions[start:end]\n",
    "#print(df['class'].values.tolist()[start:end])\n",
    "#print(yy_true)\n",
    "print(predictions)\n",
    "confusion_matrix = confusion_matrix(yy_true, y_pred)\n",
    "\n",
    "cm_display = metrics.ConfusionMatrixDisplay(confusion_matrix = confusion_matrix, display_labels = ['UP', 'Down'])\n",
    "\n",
    "cm_display.plot()\n",
    "plt.show()\n",
    "print(metrics.classification_report(yy_true, y_pred, target_names = ['UP', 'Down']))\n",
    "print('accuracy after '+ str(partition+step) + ': '+ \"{:.3f}\".format(counter/(partition+step)), end='')\n",
    "print(', avg pred time: ' + str(int(sum(predTime)/len(predTime))) + 'μs, avg train time: ' + str(int(sum(trainTime)/len(trainTime))) + 'μs')\n",
    "print()"
   ]
  },
  {
   "cell_type": "markdown",
   "metadata": {},
   "source": [
    "### Start streaming the dataset over serial using the Random Tree dataset"
   ]
  },
  {
   "cell_type": "code",
   "execution_count": 5,
   "metadata": {},
   "outputs": [
    {
     "name": "stdout",
     "output_type": "stream",
     "text": [
      "({'x_num_0': 0.6394267984578837, 'x_num_1': 0.025010755222666936, 'x_cat_0': 2, 'x_cat_1': 1, 'x_cat_2': 1, 'x_cat_3': 1, 'x_cat_4': 0}, 0)\n",
      "0.6394267984578837,0.6394267984578837,0\n",
      "({'x_num_0': 0.6766994874229113, 'x_num_1': 0.8921795677048454, 'x_cat_0': 0, 'x_cat_1': 4, 'x_cat_2': 3, 'x_cat_3': 0, 'x_cat_4': 0}, 0)\n",
      "0.6766994874229113,0.6766994874229113,0\n",
      "({'x_num_0': 0.09369523986159245, 'x_num_1': 0.2326608933907396, 'x_cat_0': 4, 'x_cat_1': 0, 'x_cat_2': 4, 'x_cat_3': 1, 'x_cat_4': 4}, 0)\n",
      "0.09369523986159245,0.09369523986159245,0\n",
      "({'x_num_0': 0.41951982096165874, 'x_num_1': 0.4492090462838536, 'x_cat_0': 2, 'x_cat_1': 0, 'x_cat_2': 1, 'x_cat_3': 3, 'x_cat_4': 2}, 0)\n",
      "0.41951982096165874,0.41951982096165874,0\n",
      "({'x_num_0': 0.27787134167164185, 'x_num_1': 0.2153137621075888, 'x_cat_0': 2, 'x_cat_1': 0, 'x_cat_2': 0, 'x_cat_3': 3, 'x_cat_4': 0}, 1)\n",
      "0.27787134167164185,0.27787134167164185,1\n",
      "({'x_num_0': 0.3589793804846284, 'x_num_1': 0.3439557224789711, 'x_cat_0': 2, 'x_cat_1': 0, 'x_cat_2': 3, 'x_cat_3': 4, 'x_cat_4': 0}, 1)\n",
      "0.3589793804846284,0.3589793804846284,1\n",
      "({'x_num_0': 0.9731157639793706, 'x_num_1': 0.3785343772083535, 'x_cat_0': 4, 'x_cat_1': 2, 'x_cat_2': 4, 'x_cat_3': 2, 'x_cat_4': 4}, 1)\n",
      "0.9731157639793706,0.9731157639793706,1\n",
      "({'x_num_0': 0.1922885902566599, 'x_num_1': 0.06955514882374092, 'x_cat_0': 1, 'x_cat_1': 2, 'x_cat_2': 0, 'x_cat_3': 1, 'x_cat_4': 0}, 0)\n",
      "0.1922885902566599,0.1922885902566599,0\n",
      "({'x_num_0': 0.38012622503916615, 'x_num_1': 0.4534103023684355, 'x_cat_0': 2, 'x_cat_1': 1, 'x_cat_2': 2, 'x_cat_3': 2, 'x_cat_4': 1}, 0)\n",
      "0.38012622503916615,0.38012622503916615,0\n",
      "({'x_num_0': 0.6701751743776934, 'x_num_1': 0.7018203134585513, 'x_cat_0': 0, 'x_cat_1': 4, 'x_cat_2': 1, 'x_cat_3': 4, 'x_cat_4': 1}, 0)\n",
      "0.6701751743776934,0.6701751743776934,0\n"
     ]
    }
   ],
   "source": [
    "import serial\n",
    "from river.datasets import synth\n",
    "dataset = synth.RandomTree(seed_tree=42, seed_sample=42, n_classes=2,n_num_features=2, max_tree_depth=5)\n",
    "def stringBuilderRandom(instance):\n",
    "    return str(instance[0]['x_num_0']) + ',' + str(instance[0]['x_num_0']) + ',' + str(instance[1])\n",
    "for instance in dataset.take(10):\n",
    "    print(instance)\n",
    "    print(stringBuilderRandom(instance))\n"
   ]
  },
  {
   "cell_type": "code",
   "execution_count": 7,
   "metadata": {},
   "outputs": [
    {
     "name": "stdout",
     "output_type": "stream",
     "text": [
      "Serial started\n",
      "\n",
      "waiting for configuration msg\n",
      "\n",
      "waiting for configuration msg\n",
      "\n",
      "configuration msg received\n",
      "\n",
      "partitionDim: 100, featureCount: 2\n",
      "\n",
      "start sending data\n",
      "\n",
      "accuracy after 100: 0.840\n",
      "accuracy after 200: 0.840\n",
      "accuracy after 300: 0.840\n"
     ]
    }
   ],
   "source": [
    "import serial\n",
    "from river.datasets import synth\n",
    "dataset = synth.RandomTree(seed_tree=42, seed_sample=42, n_classes=2,n_num_features=2, max_tree_depth=2)\n",
    "def stringBuilderRandom(instance):\n",
    "    return str(instance[0]['x_num_0']) + ',' + str(instance[0]['x_num_0']) + ',' + str(instance[1])\n",
    "\n",
    "serialPort = serial.Serial(port=\"COM12\", baudrate=500000, bytesize=8, timeout= None, rtscts=False)\n",
    "\n",
    "# Configuration\n",
    "step = 100\n",
    "featureCount = 2\n",
    "config = 'partitionDim: ' + str(step) +',featureCount: ' + str(featureCount) +','\n",
    "\n",
    "res = \"\"\n",
    "while 'start sending data' not in res: \n",
    "    res = serialPort.readline().decode('utf-8', errors='ignore')\n",
    "    print(res)\n",
    "    if 'waiting for configuration msg' in res:\n",
    "        serialPort.write(config.encode())\n",
    "\n",
    "\n",
    "# Start sending data\n",
    "y_true = []\n",
    "predictions = []\n",
    "predTime = []\n",
    "trainTime = []\n",
    "counter = 0\n",
    "try:\n",
    "    for partition in range(0, 130000, step):\n",
    "        data = \"\"\n",
    "        for instance in dataset.take(step):\n",
    "            y_true.append(instance[1])\n",
    "            data += stringBuilderRandom(instance) + ',;'\n",
    "        #print(data)\n",
    "        serialPort.write(data.encode())\n",
    "\n",
    "        res = serialPort.readline().decode()\n",
    "        #print(res)\n",
    "        samples = res.split(';')\n",
    "        for x in range(0,len(samples)-1):\n",
    "            sample = samples[x]\n",
    "            for out in sample.split(','):\n",
    "                if 'predicted:' in out:\n",
    "                    predict = int(out.split(':')[1])\n",
    "                    #print(predict)\n",
    "                    predictions.append(predict)   \n",
    "                    if (predict == y_true[partition+x]):\n",
    "                        counter += 1\n",
    "                if 'prediction_time:' in out:\n",
    "                    predTime.append(int(out.split(':')[1]))\n",
    "                if 'train_time:' in out:\n",
    "                    trainTime.append(int(out.split(':')[1]))\n",
    "\n",
    "\n",
    "        print('accuracy after '+ str(partition+step) + ': '+ \"{:.3f}\".format(counter/(partition+step)), end='')\n",
    "        #print(', avg pred time: ' + str(int(sum(predTime)/len(predTime))) + 'μs, avg train time: ' + str(int(sum(trainTime)/len(trainTime))) + 'μs')\n",
    "        print()\n",
    "    print('accuracy: ' + str(counter/len(predictions)))\n",
    "    #serial.Serial.close(serialPort)\n",
    "except: \n",
    "    serial.Serial.close(serialPort)\n",
    "finally:\n",
    "    serial.Serial.close(serialPort)\n"
   ]
  }
 ],
 "metadata": {
  "kernelspec": {
   "display_name": "Python 3.11.0 64-bit",
   "language": "python",
   "name": "python3"
  },
  "language_info": {
   "codemirror_mode": {
    "name": "ipython",
    "version": 3
   },
   "file_extension": ".py",
   "mimetype": "text/x-python",
   "name": "python",
   "nbconvert_exporter": "python",
   "pygments_lexer": "ipython3",
   "version": "3.11.0"
  },
  "orig_nbformat": 4,
  "vscode": {
   "interpreter": {
    "hash": "961ba29095b76c930f4fc5dd59aa7edba0948bb17ac8528d55d140f484815b9d"
   }
  }
 },
 "nbformat": 4,
 "nbformat_minor": 2
}
